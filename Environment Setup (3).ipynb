{
 "cells": [
  {
   "cell_type": "markdown",
   "id": "77b2b07f-7960-4ce6-ab24-b8b1998adc46",
   "metadata": {},
   "source": [
    "This notebook sets up the enviornment and sets the input variables. \n",
    "Since gcp is being used so the implementyation is carried out with GCP components. The input variables suit the needs of gcp. Here the data related information is to be given as input (the base requirment for importing the data)"
   ]
  },
  {
   "cell_type": "code",
   "execution_count": 1,
   "id": "7c6fbbe5-7e25-4032-a217-6de1e767dab9",
   "metadata": {},
   "outputs": [],
   "source": [
    "REGION = 'us-central1'\n",
    "PROJECT_ID = 'mlopstqc'\n",
    "DATANAME = 'leaktest'\n",
    "\n",
    "# Data source for the notebook\n",
    "BQ_SOURCE = 'mlopstqc.MALT.testvoltopres'"
   ]
  },
  {
   "cell_type": "code",
   "execution_count": 2,
   "id": "abae69aa-f891-46d3-891b-f98dbb56b2fc",
   "metadata": {},
   "outputs": [],
   "source": [
    "from google.cloud import storage\n",
    "from google.cloud import bigquery\n",
    "import pandas as pd\n",
    "from sklearn import datasets"
   ]
  },
  {
   "cell_type": "code",
   "execution_count": 3,
   "id": "3f7b7a4b-fe6d-49f8-875f-f3f5f4575224",
   "metadata": {},
   "outputs": [],
   "source": [
    "BUCKET = \"datalaketqc\""
   ]
  },
  {
   "cell_type": "markdown",
   "id": "cbc8b6b8-cfb8-4adb-aa1c-794816cf723c",
   "metadata": {},
   "source": [
    "The following is setting up or linkig to a repository to store the data (to be imported). Favourably, a datalake is to be used to homogenise data collection and retrieval.  "
   ]
  },
  {
   "cell_type": "code",
   "execution_count": 4,
   "id": "9786f7da-0c57-4469-b312-6c4541f05258",
   "metadata": {},
   "outputs": [],
   "source": [
    "gcs = storage.Client(project = PROJECT_ID)"
   ]
  },
  {
   "cell_type": "code",
   "execution_count": 5,
   "id": "237cc6e2-cffe-475d-b1b7-d84089d6bf30",
   "metadata": {},
   "outputs": [
    {
     "name": "stdout",
     "output_type": "stream",
     "text": [
      "<Bucket: datalaketqc>\n"
     ]
    }
   ],
   "source": [
    "if not gcs.lookup_bucket(BUCKET):\n",
    "    bucketDef = gcs.bucket(BUCKET)\n",
    "    bucket = gcs.create_bucket(bucketDef, project=PROJECT_ID, location=REGION)\n",
    "    print(bucket)\n",
    "else:\n",
    "    print(gcs.lookup_bucket(BUCKET))"
   ]
  },
  {
   "cell_type": "markdown",
   "id": "c75ed00a-24eb-40fb-8e3c-b1c68bfdbebe",
   "metadata": {},
   "source": [
    "The data is to be extracted from the Source (e.g. data warehouse) into the Data Lake (e.g. Cloud Storage)"
   ]
  },
  {
   "cell_type": "code",
   "execution_count": 6,
   "id": "93afb86d-1037-479b-b517-09536ab01b84",
   "metadata": {},
   "outputs": [],
   "source": [
    "bq = bigquery.Client(project = PROJECT_ID)\n",
    "destination = f\"gs://{BUCKET}/{DATANAME}/data/{DATANAME}.csv\"\n",
    "source = BQ_SOURCE\n",
    "extract = bq.extract_table(source, destination)"
   ]
  },
  {
   "cell_type": "code",
   "execution_count": 7,
   "id": "a0c17b28-ee4a-479c-833b-d4f3391d352e",
   "metadata": {},
   "outputs": [
    {
     "data": {
      "text/plain": [
       "ExtractJob<project=mlopstqc, location=us-central1, id=8a542e9a-7b95-430b-ae44-a9d77d81fcbc>"
      ]
     },
     "execution_count": 7,
     "metadata": {},
     "output_type": "execute_result"
    }
   ],
   "source": [
    "extract.result()"
   ]
  },
  {
   "cell_type": "markdown",
   "id": "c2e9fb8e-b748-43b2-82b5-61b5033e24b7",
   "metadata": {},
   "source": [
    "Installing dependencies for data processing. More dependencies can be added as per requirements."
   ]
  },
  {
   "cell_type": "code",
   "execution_count": 9,
   "id": "7fb47892-a518-4a6b-b33f-a996b0217a41",
   "metadata": {},
   "outputs": [],
   "source": [
    "!pip install kfp -U -q"
   ]
  },
  {
   "cell_type": "code",
   "execution_count": 10,
   "id": "1a265f3b-127d-4826-88e9-dcb0e28448c6",
   "metadata": {},
   "outputs": [],
   "source": [
    "!pip install google-cloud-pipeline-components -U -q"
   ]
  },
  {
   "cell_type": "code",
   "execution_count": 11,
   "id": "2abfab08-9907-4038-99d9-87e5902d6284",
   "metadata": {},
   "outputs": [],
   "source": [
    "!pip install plotly -q"
   ]
  },
  {
   "cell_type": "code",
   "execution_count": 12,
   "id": "b765803e-6f1c-4ad6-a348-584b7d70b64b",
   "metadata": {},
   "outputs": [],
   "source": [
    "!pip install google-cloud-aiplatform -U -q"
   ]
  },
  {
   "cell_type": "code",
   "execution_count": null,
   "id": "68106502-9cbf-4aea-87a4-afbc5e4a294e",
   "metadata": {},
   "outputs": [],
   "source": []
  }
 ],
 "metadata": {
  "environment": {
   "kernel": "python3",
   "name": "tf2-gpu.2-8.m90",
   "type": "gcloud",
   "uri": "gcr.io/deeplearning-platform-release/tf2-gpu.2-8:m90"
  },
  "kernelspec": {
   "display_name": "Python 3",
   "language": "python",
   "name": "python3"
  },
  "language_info": {
   "codemirror_mode": {
    "name": "ipython",
    "version": 3
   },
   "file_extension": ".py",
   "mimetype": "text/x-python",
   "name": "python",
   "nbconvert_exporter": "python",
   "pygments_lexer": "ipython3",
   "version": "3.7.12"
  }
 },
 "nbformat": 4,
 "nbformat_minor": 5
}
