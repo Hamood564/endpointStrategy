{
 "cells": [
  {
   "cell_type": "markdown",
   "id": "1492f1d7-e706-4279-8c22-474c8fac9ab3",
   "metadata": {},
   "source": [
    "# Sourcing the Data\n",
    "This notebok imports the sourced data from storage into BigQuery, a datawarehouse. This is the start of the amchine learning lifecycle, by importing data and preparing it for machine learning. Tabular data is assumed, to fit in a supervised learning model. The model is used to predict target value by learning patterns in feature columns. For our case, we will use classification (most suited to our needs), predicting target variables having several discrte classes. "
   ]
  },
  {
   "cell_type": "markdown",
   "id": "2d815137-75b3-42bc-aef7-9df283bc2b61",
   "metadata": {},
   "source": [
    "## Setting up "
   ]
  },
  {
   "cell_type": "code",
   "execution_count": 2,
   "id": "176c774e-7557-4a23-88c4-b4d6d2a9d724",
   "metadata": {},
   "outputs": [],
   "source": [
    "from google.cloud import bigquery"
   ]
  },
  {
   "cell_type": "code",
   "execution_count": 1,
   "id": "27a42bb2-6a31-4580-b8ff-ce30f125bd0b",
   "metadata": {},
   "outputs": [],
   "source": [
    "REGION = 'us-central1'\n",
    "PROJECT_ID = 'mlopstqc'\n",
    "DATANAME = 'leaktest'\n",
    "Identifier= '1'"
   ]
  },
  {
   "cell_type": "code",
   "execution_count": 3,
   "id": "a2a52f8b-b470-4e09-b404-627872be0af8",
   "metadata": {},
   "outputs": [],
   "source": [
    "bq = bigquery.Client(project= PROJECT_ID)"
   ]
  },
  {
   "cell_type": "code",
   "execution_count": 4,
   "id": "04a03447-033a-4111-9407-2843d292c9c9",
   "metadata": {},
   "outputs": [],
   "source": [
    "BUCKET = 'datalaketqc'"
   ]
  },
  {
   "cell_type": "markdown",
   "id": "724f9f42-3a3d-4391-a345-537b7637319e",
   "metadata": {},
   "source": [
    "## Creating the Dataset"
   ]
  },
  {
   "cell_type": "code",
   "execution_count": 5,
   "id": "0b2c840e-b287-4af6-8190-66b6953d3ba3",
   "metadata": {},
   "outputs": [
    {
     "data": {
      "text/html": [
       "<div>\n",
       "<style scoped>\n",
       "    .dataframe tbody tr th:only-of-type {\n",
       "        vertical-align: middle;\n",
       "    }\n",
       "\n",
       "    .dataframe tbody tr th {\n",
       "        vertical-align: top;\n",
       "    }\n",
       "\n",
       "    .dataframe thead th {\n",
       "        text-align: right;\n",
       "    }\n",
       "</style>\n",
       "<table border=\"1\" class=\"dataframe\">\n",
       "  <thead>\n",
       "    <tr style=\"text-align: right;\">\n",
       "      <th></th>\n",
       "      <th>schema_name</th>\n",
       "    </tr>\n",
       "  </thead>\n",
       "  <tbody>\n",
       "  </tbody>\n",
       "</table>\n",
       "</div>"
      ],
      "text/plain": [
       "Empty DataFrame\n",
       "Columns: [schema_name]\n",
       "Index: []"
      ]
     },
     "execution_count": 5,
     "metadata": {},
     "output_type": "execute_result"
    }
   ],
   "source": [
    "query = f\"\"\"\n",
    "SELECT schema_name\n",
    "FROM `{PROJECT_ID}.INFORMATION_SCHEMA.SCHEMATA`\n",
    "\"\"\"\n",
    "bq.query(query = query).to_dataframe()"
   ]
  },
  {
   "cell_type": "code",
   "execution_count": 6,
   "id": "770b8ec8-3dd0-4eae-9e78-10f542991a48",
   "metadata": {},
   "outputs": [
    {
     "data": {
      "text/plain": [
       "<google.cloud.bigquery.table._EmptyRowIterator at 0x7f780234f7d0>"
      ]
     },
     "execution_count": 6,
     "metadata": {},
     "output_type": "execute_result"
    }
   ],
   "source": [
    "query = f\"\"\"\n",
    "CREATE SCHEMA IF NOT EXISTS `{PROJECT_ID}.{DATANAME}`\n",
    "OPTIONS(\n",
    "    location = '{REGION}',\n",
    "    labels = [('identifier','{Identifier}')]\n",
    ")\n",
    "\"\"\"\n",
    "job = bq.query(query = query)\n",
    "job.result()"
   ]
  },
  {
   "cell_type": "code",
   "execution_count": 7,
   "id": "ea5ba832-9108-47de-968d-84acab2e66c3",
   "metadata": {},
   "outputs": [
    {
     "data": {
      "text/plain": [
       "0.69"
      ]
     },
     "execution_count": 7,
     "metadata": {},
     "output_type": "execute_result"
    }
   ],
   "source": [
    "(job.ended -job.started).total_seconds()"
   ]
  },
  {
   "cell_type": "code",
   "execution_count": 9,
   "id": "caca0c3f-5e4c-46cf-abde-bd25805bdd43",
   "metadata": {},
   "outputs": [
    {
     "data": {
      "text/plain": [
       "LoadJob<project=mlopstqc, location=us-central1, id=7ab4533b-c954-437c-a6f6-ae1eafdef271>"
      ]
     },
     "execution_count": 9,
     "metadata": {},
     "output_type": "execute_result"
    }
   ],
   "source": [
    "destination = bigquery.TableReference.from_string(f\"{PROJECT_ID}.{DATANAME}.{DATANAME}\")\n",
    "job_config = bigquery.LoadJobConfig(\n",
    "    write_disposition = 'WRITE_TRUNCATE',\n",
    "    source_format = bigquery.SourceFormat.CSV,\n",
    "    autodetect = True,\n",
    "    labels = {'identifier':f'{Identifier}'}\n",
    ")\n",
    "job = bq.load_table_from_uri(f\"gs://{BUCKET}/{DATANAME}/data/{DATANAME}.csv\", destination, job_config = job_config)\n",
    "job.result()"
   ]
  },
  {
   "cell_type": "code",
   "execution_count": 10,
   "id": "c11ee723-79f4-4610-9562-6fbaefb78869",
   "metadata": {},
   "outputs": [
    {
     "data": {
      "text/plain": [
       "1.625"
      ]
     },
     "execution_count": 10,
     "metadata": {},
     "output_type": "execute_result"
    }
   ],
   "source": [
    "(job.ended-job.started).total_seconds()\n"
   ]
  },
  {
   "cell_type": "code",
   "execution_count": 11,
   "id": "439b8cba-1892-4a10-b2ca-2903cfd83f93",
   "metadata": {},
   "outputs": [
    {
     "data": {
      "text/html": [
       "<div>\n",
       "<style scoped>\n",
       "    .dataframe tbody tr th:only-of-type {\n",
       "        vertical-align: middle;\n",
       "    }\n",
       "\n",
       "    .dataframe tbody tr th {\n",
       "        vertical-align: top;\n",
       "    }\n",
       "\n",
       "    .dataframe thead th {\n",
       "        text-align: right;\n",
       "    }\n",
       "</style>\n",
       "<table border=\"1\" class=\"dataframe\">\n",
       "  <thead>\n",
       "    <tr style=\"text-align: right;\">\n",
       "      <th></th>\n",
       "      <th>TestVolumeLitre</th>\n",
       "      <th>AlarmDiffPressure</th>\n",
       "      <th>TestPressureMbar</th>\n",
       "    </tr>\n",
       "  </thead>\n",
       "  <tbody>\n",
       "    <tr>\n",
       "      <th>0</th>\n",
       "      <td>3.0</td>\n",
       "      <td>260</td>\n",
       "      <td>15500</td>\n",
       "    </tr>\n",
       "    <tr>\n",
       "      <th>1</th>\n",
       "      <td>3.0</td>\n",
       "      <td>260</td>\n",
       "      <td>15500</td>\n",
       "    </tr>\n",
       "    <tr>\n",
       "      <th>2</th>\n",
       "      <td>3.0</td>\n",
       "      <td>260</td>\n",
       "      <td>15500</td>\n",
       "    </tr>\n",
       "    <tr>\n",
       "      <th>3</th>\n",
       "      <td>3.0</td>\n",
       "      <td>10</td>\n",
       "      <td>15500</td>\n",
       "    </tr>\n",
       "    <tr>\n",
       "      <th>4</th>\n",
       "      <td>3.0</td>\n",
       "      <td>10</td>\n",
       "      <td>15500</td>\n",
       "    </tr>\n",
       "  </tbody>\n",
       "</table>\n",
       "</div>"
      ],
      "text/plain": [
       "   TestVolumeLitre  AlarmDiffPressure  TestPressureMbar\n",
       "0              3.0                260             15500\n",
       "1              3.0                260             15500\n",
       "2              3.0                260             15500\n",
       "3              3.0                 10             15500\n",
       "4              3.0                 10             15500"
      ]
     },
     "execution_count": 11,
     "metadata": {},
     "output_type": "execute_result"
    }
   ],
   "source": [
    "query = f\"\"\"\n",
    "SELECT *\n",
    "FROM `{DATANAME}.{DATANAME}`\n",
    "LIMIT 5\n",
    "\"\"\"\n",
    "bq.query(query = query).to_dataframe()"
   ]
  },
  {
   "cell_type": "markdown",
   "id": "c0f5f910-9a47-4dce-8331-6df1a654ffea",
   "metadata": {},
   "source": [
    "## Review Data"
   ]
  },
  {
   "cell_type": "code",
   "execution_count": 12,
   "id": "4e874e49-5a26-4b9a-964a-aa1a33736819",
   "metadata": {},
   "outputs": [],
   "source": [
    "query = f\"\"\"\n",
    "SELECT *\n",
    "FROM `{DATANAME}.{DATANAME}`\n",
    "\"\"\"\n",
    "df = bq.query(query = query).to_dataframe()"
   ]
  },
  {
   "cell_type": "code",
   "execution_count": 13,
   "id": "541dc9e5-79b5-419c-a4c4-ef2ad9533215",
   "metadata": {},
   "outputs": [
    {
     "data": {
      "text/plain": [
       "15500    27585\n",
       "17800       51\n",
       "12200       51\n",
       "16800       51\n",
       "10400       51\n",
       "         ...  \n",
       "45400        6\n",
       "39000        6\n",
       "43600        6\n",
       "37200        6\n",
       "49400        6\n",
       "Name: TestPressureMbar, Length: 201, dtype: int64"
      ]
     },
     "execution_count": 13,
     "metadata": {},
     "output_type": "execute_result"
    }
   ],
   "source": [
    "df['TestPressureMbar'].value_counts()"
   ]
  },
  {
   "cell_type": "code",
   "execution_count": 14,
   "id": "8a702c6f-f9bb-40d0-bf94-eab42c26ebfa",
   "metadata": {},
   "outputs": [
    {
     "data": {
      "text/plain": [
       "15500    0.830173\n",
       "17800    0.001535\n",
       "12200    0.001535\n",
       "16800    0.001535\n",
       "10400    0.001535\n",
       "           ...   \n",
       "45400    0.000181\n",
       "39000    0.000181\n",
       "43600    0.000181\n",
       "37200    0.000181\n",
       "49400    0.000181\n",
       "Name: TestPressureMbar, Length: 201, dtype: float64"
      ]
     },
     "execution_count": 14,
     "metadata": {},
     "output_type": "execute_result"
    }
   ],
   "source": [
    "df['TestPressureMbar'].value_counts(normalize=True)"
   ]
  },
  {
   "cell_type": "markdown",
   "id": "cd63bffc-6ade-41ce-8111-c20a4e98ef70",
   "metadata": {},
   "source": [
    "# Preparing the Data\n",
    "A new table with <code>_prepped</code> is made and two columns are added to the sourced data:\n",
    "<ol>\n",
    "<li><code>trans_id</code> a unique identification for each row.</li> \n",
    "<li><code>splits</code> divide the data into <code>TRAIN</code> (80%), <code>VALIDATE</code> (10%), and <code>TEST</code> (10%).</li> \n",
    "</ol>\n"
   ]
  },
  {
   "cell_type": "code",
   "execution_count": 15,
   "id": "9c84d1cf-d02a-4308-bb10-c5b024848152",
   "metadata": {},
   "outputs": [
    {
     "data": {
      "text/plain": [
       "<google.cloud.bigquery.table._EmptyRowIterator at 0x7f7800a92510>"
      ]
     },
     "execution_count": 15,
     "metadata": {},
     "output_type": "execute_result"
    }
   ],
   "source": [
    "query = f\"\"\"\n",
    "CREATE OR REPLACE TABLE `{DATANAME}.{DATANAME}_prepped` AS\n",
    "WITH add_id AS(SELECT *, GENERATE_UUID() transaction_id FROM `{DATANAME}.{DATANAME}`)\n",
    "SELECT *,\n",
    "    CASE \n",
    "        WHEN MOD(ABS(FARM_FINGERPRINT(transaction_id)),10) < 8 THEN \"TRAIN\" \n",
    "        WHEN MOD(ABS(FARM_FINGERPRINT(transaction_id)),10) < 9 THEN \"VALIDATE\"\n",
    "        ELSE \"TEST\"\n",
    "    END AS splits\n",
    "FROM add_id\n",
    "\"\"\"\n",
    "job = bq.query(query = query)\n",
    "job.result()"
   ]
  },
  {
   "cell_type": "code",
   "execution_count": 16,
   "id": "ebeeda0d-8653-4768-94c4-9f8645098f60",
   "metadata": {},
   "outputs": [
    {
     "data": {
      "text/plain": [
       "1.567"
      ]
     },
     "execution_count": 16,
     "metadata": {},
     "output_type": "execute_result"
    }
   ],
   "source": [
    "(job.ended-job.started).total_seconds()"
   ]
  },
  {
   "cell_type": "code",
   "execution_count": 17,
   "id": "0aa65920-5231-4c44-8a58-20b967eac474",
   "metadata": {},
   "outputs": [
    {
     "data": {
      "text/plain": [
       "0.797472"
      ]
     },
     "execution_count": 17,
     "metadata": {},
     "output_type": "execute_result"
    }
   ],
   "source": [
    "job.estimated_bytes_processed/1000000 #MB\n"
   ]
  },
  {
   "cell_type": "code",
   "execution_count": 18,
   "id": "0bee8d9b-e89c-4000-bc06-2f6ae46ac3ca",
   "metadata": {},
   "outputs": [
    {
     "data": {
      "text/html": [
       "<div>\n",
       "<style scoped>\n",
       "    .dataframe tbody tr th:only-of-type {\n",
       "        vertical-align: middle;\n",
       "    }\n",
       "\n",
       "    .dataframe tbody tr th {\n",
       "        vertical-align: top;\n",
       "    }\n",
       "\n",
       "    .dataframe thead th {\n",
       "        text-align: right;\n",
       "    }\n",
       "</style>\n",
       "<table border=\"1\" class=\"dataframe\">\n",
       "  <thead>\n",
       "    <tr style=\"text-align: right;\">\n",
       "      <th></th>\n",
       "      <th>splits</th>\n",
       "      <th>Count</th>\n",
       "      <th>Percentage</th>\n",
       "    </tr>\n",
       "  </thead>\n",
       "  <tbody>\n",
       "    <tr>\n",
       "      <th>0</th>\n",
       "      <td>VALIDATE</td>\n",
       "      <td>3378</td>\n",
       "      <td>10.166125</td>\n",
       "    </tr>\n",
       "    <tr>\n",
       "      <th>1</th>\n",
       "      <td>TEST</td>\n",
       "      <td>3344</td>\n",
       "      <td>10.063802</td>\n",
       "    </tr>\n",
       "    <tr>\n",
       "      <th>2</th>\n",
       "      <td>TRAIN</td>\n",
       "      <td>26506</td>\n",
       "      <td>79.770073</td>\n",
       "    </tr>\n",
       "  </tbody>\n",
       "</table>\n",
       "</div>"
      ],
      "text/plain": [
       "     splits  Count  Percentage\n",
       "0  VALIDATE   3378   10.166125\n",
       "1      TEST   3344   10.063802\n",
       "2     TRAIN  26506   79.770073"
      ]
     },
     "execution_count": 18,
     "metadata": {},
     "output_type": "execute_result"
    }
   ],
   "source": [
    "query = f\"\"\"\n",
    "SELECT splits, count(*) as Count, 100*count(*) / (sum(count(*)) OVER()) as Percentage\n",
    "FROM `{DATANAME}.{DATANAME}_prepped`\n",
    "GROUP BY splits\n",
    "\"\"\"\n",
    "bq.query(query = query).to_dataframe()"
   ]
  },
  {
   "cell_type": "code",
   "execution_count": 19,
   "id": "bb92e819-1f9e-4901-9cb0-f86acde6798f",
   "metadata": {},
   "outputs": [],
   "source": [
    "query = f\"\"\"\n",
    "SELECT * \n",
    "FROM `{DATANAME}.{DATANAME}_prepped`\n",
    "LIMIT 5\n",
    "\"\"\"\n",
    "data = bq.query(query = query).to_dataframe()"
   ]
  },
  {
   "cell_type": "code",
   "execution_count": 20,
   "id": "3770da09-ae7c-44b3-ac04-426e72733d2d",
   "metadata": {},
   "outputs": [
    {
     "data": {
      "text/html": [
       "<div>\n",
       "<style scoped>\n",
       "    .dataframe tbody tr th:only-of-type {\n",
       "        vertical-align: middle;\n",
       "    }\n",
       "\n",
       "    .dataframe tbody tr th {\n",
       "        vertical-align: top;\n",
       "    }\n",
       "\n",
       "    .dataframe thead th {\n",
       "        text-align: right;\n",
       "    }\n",
       "</style>\n",
       "<table border=\"1\" class=\"dataframe\">\n",
       "  <thead>\n",
       "    <tr style=\"text-align: right;\">\n",
       "      <th></th>\n",
       "      <th>TestVolumeLitre</th>\n",
       "      <th>AlarmDiffPressure</th>\n",
       "      <th>TestPressureMbar</th>\n",
       "      <th>transaction_id</th>\n",
       "      <th>splits</th>\n",
       "    </tr>\n",
       "  </thead>\n",
       "  <tbody>\n",
       "    <tr>\n",
       "      <th>0</th>\n",
       "      <td>0.2</td>\n",
       "      <td>500</td>\n",
       "      <td>12800</td>\n",
       "      <td>68cfe17b-33f6-4240-9254-d77514feb083</td>\n",
       "      <td>TEST</td>\n",
       "    </tr>\n",
       "    <tr>\n",
       "      <th>1</th>\n",
       "      <td>10.0</td>\n",
       "      <td>320</td>\n",
       "      <td>12800</td>\n",
       "      <td>e6cc26be-a050-4c91-99cf-52c2dcea0924</td>\n",
       "      <td>TEST</td>\n",
       "    </tr>\n",
       "    <tr>\n",
       "      <th>2</th>\n",
       "      <td>0.1</td>\n",
       "      <td>320</td>\n",
       "      <td>12800</td>\n",
       "      <td>b5e82b71-f62a-400a-9cf1-f551b2b57bf9</td>\n",
       "      <td>TEST</td>\n",
       "    </tr>\n",
       "    <tr>\n",
       "      <th>3</th>\n",
       "      <td>0.1</td>\n",
       "      <td>320</td>\n",
       "      <td>12800</td>\n",
       "      <td>d2f9cc2b-4aed-4734-a723-17b44020021b</td>\n",
       "      <td>TEST</td>\n",
       "    </tr>\n",
       "    <tr>\n",
       "      <th>4</th>\n",
       "      <td>0.1</td>\n",
       "      <td>320</td>\n",
       "      <td>12800</td>\n",
       "      <td>2e18b196-6e95-4a0a-ae7b-1f1256bfc3b9</td>\n",
       "      <td>TRAIN</td>\n",
       "    </tr>\n",
       "  </tbody>\n",
       "</table>\n",
       "</div>"
      ],
      "text/plain": [
       "   TestVolumeLitre  AlarmDiffPressure  TestPressureMbar  \\\n",
       "0              0.2                500             12800   \n",
       "1             10.0                320             12800   \n",
       "2              0.1                320             12800   \n",
       "3              0.1                320             12800   \n",
       "4              0.1                320             12800   \n",
       "\n",
       "                         transaction_id splits  \n",
       "0  68cfe17b-33f6-4240-9254-d77514feb083   TEST  \n",
       "1  e6cc26be-a050-4c91-99cf-52c2dcea0924   TEST  \n",
       "2  b5e82b71-f62a-400a-9cf1-f551b2b57bf9   TEST  \n",
       "3  d2f9cc2b-4aed-4734-a723-17b44020021b   TEST  \n",
       "4  2e18b196-6e95-4a0a-ae7b-1f1256bfc3b9  TRAIN  "
      ]
     },
     "execution_count": 20,
     "metadata": {},
     "output_type": "execute_result"
    }
   ],
   "source": [
    "data.head()"
   ]
  },
  {
   "cell_type": "code",
   "execution_count": null,
   "id": "892797d9-b274-464b-8ebd-56a47c055071",
   "metadata": {},
   "outputs": [],
   "source": []
  }
 ],
 "metadata": {
  "environment": {
   "kernel": "conda-root-py",
   "name": "tf2-gpu.2-8.m90",
   "type": "gcloud",
   "uri": "gcr.io/deeplearning-platform-release/tf2-gpu.2-8:m90"
  },
  "kernelspec": {
   "display_name": "Python [conda env:root] *",
   "language": "python",
   "name": "conda-root-py"
  },
  "language_info": {
   "codemirror_mode": {
    "name": "ipython",
    "version": 3
   },
   "file_extension": ".py",
   "mimetype": "text/x-python",
   "name": "python",
   "nbconvert_exporter": "python",
   "pygments_lexer": "ipython3",
   "version": "3.7.12"
  }
 },
 "nbformat": 4,
 "nbformat_minor": 5
}
