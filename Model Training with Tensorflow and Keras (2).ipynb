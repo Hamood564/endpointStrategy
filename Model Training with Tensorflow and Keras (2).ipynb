{
 "cells": [
  {
   "cell_type": "markdown",
   "id": "a79ff3cd-4063-4eb4-a70d-293ad5e73946",
   "metadata": {},
   "source": [
    "# Modelling with Tensorflow"
   ]
  },
  {
   "cell_type": "markdown",
   "id": "8b3f4292-ae1e-4515-9990-af62af41d8e7",
   "metadata": {},
   "source": [
    "This implementation presents an example of execution environment supported by machine type and GPUs. This implementation demonstrates on how the model can be trained directly within runtime of environment. The model is saved and transferred to deployment as a Endpoint for online predictions. \n",
    "The model training is carried out with Tensorflow (Keras) and demonstartes a neural network approach to logistic regression. The training data is read by Tensorflow I/O.\n"
   ]
  },
  {
   "cell_type": "markdown",
   "id": "ac519dd5-c363-402e-abe6-c03449b605e6",
   "metadata": {},
   "source": [
    "## Setting Up"
   ]
  },
  {
   "cell_type": "code",
   "execution_count": 1,
   "id": "faeee922-34cc-4781-aa76-4fec84bfa5e7",
   "metadata": {},
   "outputs": [],
   "source": [
    "REGION = 'us-central1'\n",
    "PROJECT_ID='mlopstqc'\n",
    "DATANAME = 'leaktest'\n",
    "IDENTIFIER = '7'\n",
    "\n",
    "# Resources\n",
    "DEPLOY_COMPUTE = 'n1-standard-2'\n",
    "DEPLOY_IMAGE='us-docker.pkg.dev/vertex-ai/prediction/tf2-cpu.2-3:latest'\n",
    "\n",
    "# Model Training\n",
    "VAR_TARGET = 'TestPressureMbar'\n",
    "VAR_OMIT = 'transaction_id'\n",
    "EPOCHS = 10\n",
    "BATCH_SIZE = 100"
   ]
  },
  {
   "cell_type": "code",
   "execution_count": 2,
   "id": "1da89d5a-b86f-4e16-b14c-426a82a022a3",
   "metadata": {},
   "outputs": [
    {
     "name": "stderr",
     "output_type": "stream",
     "text": [
      "2022-04-26 11:33:33.486653: W tensorflow_io/core/kernels/audio_video_mp3_kernels.cc:271] libmp3lame.so.0 or lame functions are not available\n",
      "2022-04-26 11:33:33.487097: I tensorflow_io/core/kernels/cpu_check.cc:128] Your CPU supports instructions that this TensorFlow IO binary was not compiled to use: AVX2 FMA\n"
     ]
    }
   ],
   "source": [
    "from google.cloud import bigquery\n",
    "\n",
    "from tensorflow.python.framework import dtypes\n",
    "from tensorflow_io.bigquery import BigQueryClient\n",
    "import tensorflow as tf\n",
    "\n",
    "from google.cloud import aiplatform\n",
    "from datetime import datetime\n",
    "import os\n",
    "\n",
    "from google.protobuf import json_format\n",
    "from google.protobuf.struct_pb2 import Value\n",
    "import json\n",
    "import numpy as np"
   ]
  },
  {
   "cell_type": "code",
   "execution_count": 3,
   "id": "bcd5c260-b624-4fb3-9ced-685de697e271",
   "metadata": {},
   "outputs": [],
   "source": [
    "aiplatform.init(project=PROJECT_ID, location=REGION)\n",
    "bigquery = bigquery.Client()"
   ]
  },
  {
   "cell_type": "code",
   "execution_count": 4,
   "id": "039723d2-58a8-495c-9cdd-1e2069dbfe6e",
   "metadata": {},
   "outputs": [],
   "source": [
    "TIMESTAMP = datetime.now().strftime(\"%Y%m%d%H%M%S\")\n",
    "BUCKET = PROJECT_ID\n",
    "URI = f\"gs://{BUCKET}/{DATANAME}/models/{IDENTIFIER}\"\n",
    "DIR = f\"temp/{IDENTIFIER}\""
   ]
  },
  {
   "cell_type": "code",
   "execution_count": 5,
   "id": "2e340546-e2ee-4b48-92a2-ea0be499dbc2",
   "metadata": {},
   "outputs": [],
   "source": [
    "!rm -rf {DIR}\n",
    "!mkdir -p {DIR}"
   ]
  },
  {
   "cell_type": "markdown",
   "id": "a18db430-c238-4156-8897-a0ce733a7683",
   "metadata": {},
   "source": [
    "## Training the data"
   ]
  },
  {
   "cell_type": "markdown",
   "id": "aa4d6de5-7c41-4a23-b7b2-c17d13772e02",
   "metadata": {},
   "source": [
    "Data is sourced through a data warehouse. Rather than as an instance of the data as a data frame we leverage a more scalable way to accomodate very large training sets. Tensorflow I/O reads batches of training data in paralele during model training."
   ]
  },
  {
   "cell_type": "markdown",
   "id": "502a329d-f926-4923-b24f-23db191d2ef7",
   "metadata": {},
   "source": [
    "### Data Scehma\n",
    "Retrieving column information about the training data. "
   ]
  },
  {
   "cell_type": "code",
   "execution_count": 6,
   "id": "e244ee92-1ad0-406b-9ef9-63124f12e7a6",
   "metadata": {},
   "outputs": [
    {
     "data": {
      "text/html": [
       "<div>\n",
       "<style scoped>\n",
       "    .dataframe tbody tr th:only-of-type {\n",
       "        vertical-align: middle;\n",
       "    }\n",
       "\n",
       "    .dataframe tbody tr th {\n",
       "        vertical-align: top;\n",
       "    }\n",
       "\n",
       "    .dataframe thead th {\n",
       "        text-align: right;\n",
       "    }\n",
       "</style>\n",
       "<table border=\"1\" class=\"dataframe\">\n",
       "  <thead>\n",
       "    <tr style=\"text-align: right;\">\n",
       "      <th></th>\n",
       "      <th>table_catalog</th>\n",
       "      <th>table_schema</th>\n",
       "      <th>table_name</th>\n",
       "      <th>column_name</th>\n",
       "      <th>ordinal_position</th>\n",
       "      <th>is_nullable</th>\n",
       "      <th>data_type</th>\n",
       "      <th>is_generated</th>\n",
       "      <th>generation_expression</th>\n",
       "      <th>is_stored</th>\n",
       "      <th>is_hidden</th>\n",
       "      <th>is_updatable</th>\n",
       "      <th>is_system_defined</th>\n",
       "      <th>is_partitioning_column</th>\n",
       "      <th>clustering_ordinal_position</th>\n",
       "    </tr>\n",
       "  </thead>\n",
       "  <tbody>\n",
       "    <tr>\n",
       "      <th>0</th>\n",
       "      <td>mlopstqc</td>\n",
       "      <td>leaktest</td>\n",
       "      <td>leaktest_prepped</td>\n",
       "      <td>TestVolumeLitre</td>\n",
       "      <td>1</td>\n",
       "      <td>YES</td>\n",
       "      <td>FLOAT64</td>\n",
       "      <td>NEVER</td>\n",
       "      <td>None</td>\n",
       "      <td>None</td>\n",
       "      <td>NO</td>\n",
       "      <td>None</td>\n",
       "      <td>NO</td>\n",
       "      <td>NO</td>\n",
       "      <td>NaN</td>\n",
       "    </tr>\n",
       "    <tr>\n",
       "      <th>1</th>\n",
       "      <td>mlopstqc</td>\n",
       "      <td>leaktest</td>\n",
       "      <td>leaktest_prepped</td>\n",
       "      <td>AlarmDiffPressure</td>\n",
       "      <td>2</td>\n",
       "      <td>YES</td>\n",
       "      <td>INT64</td>\n",
       "      <td>NEVER</td>\n",
       "      <td>None</td>\n",
       "      <td>None</td>\n",
       "      <td>NO</td>\n",
       "      <td>None</td>\n",
       "      <td>NO</td>\n",
       "      <td>NO</td>\n",
       "      <td>NaN</td>\n",
       "    </tr>\n",
       "    <tr>\n",
       "      <th>2</th>\n",
       "      <td>mlopstqc</td>\n",
       "      <td>leaktest</td>\n",
       "      <td>leaktest_prepped</td>\n",
       "      <td>TestPressureMbar</td>\n",
       "      <td>3</td>\n",
       "      <td>YES</td>\n",
       "      <td>INT64</td>\n",
       "      <td>NEVER</td>\n",
       "      <td>None</td>\n",
       "      <td>None</td>\n",
       "      <td>NO</td>\n",
       "      <td>None</td>\n",
       "      <td>NO</td>\n",
       "      <td>NO</td>\n",
       "      <td>NaN</td>\n",
       "    </tr>\n",
       "    <tr>\n",
       "      <th>3</th>\n",
       "      <td>mlopstqc</td>\n",
       "      <td>leaktest</td>\n",
       "      <td>leaktest_prepped</td>\n",
       "      <td>transaction_id</td>\n",
       "      <td>4</td>\n",
       "      <td>YES</td>\n",
       "      <td>STRING</td>\n",
       "      <td>NEVER</td>\n",
       "      <td>None</td>\n",
       "      <td>None</td>\n",
       "      <td>NO</td>\n",
       "      <td>None</td>\n",
       "      <td>NO</td>\n",
       "      <td>NO</td>\n",
       "      <td>NaN</td>\n",
       "    </tr>\n",
       "    <tr>\n",
       "      <th>4</th>\n",
       "      <td>mlopstqc</td>\n",
       "      <td>leaktest</td>\n",
       "      <td>leaktest_prepped</td>\n",
       "      <td>splits</td>\n",
       "      <td>5</td>\n",
       "      <td>YES</td>\n",
       "      <td>STRING</td>\n",
       "      <td>NEVER</td>\n",
       "      <td>None</td>\n",
       "      <td>None</td>\n",
       "      <td>NO</td>\n",
       "      <td>None</td>\n",
       "      <td>NO</td>\n",
       "      <td>NO</td>\n",
       "      <td>NaN</td>\n",
       "    </tr>\n",
       "  </tbody>\n",
       "</table>\n",
       "</div>"
      ],
      "text/plain": [
       "  table_catalog table_schema        table_name        column_name  \\\n",
       "0      mlopstqc     leaktest  leaktest_prepped    TestVolumeLitre   \n",
       "1      mlopstqc     leaktest  leaktest_prepped  AlarmDiffPressure   \n",
       "2      mlopstqc     leaktest  leaktest_prepped   TestPressureMbar   \n",
       "3      mlopstqc     leaktest  leaktest_prepped     transaction_id   \n",
       "4      mlopstqc     leaktest  leaktest_prepped             splits   \n",
       "\n",
       "   ordinal_position is_nullable data_type is_generated generation_expression  \\\n",
       "0                 1         YES   FLOAT64        NEVER                  None   \n",
       "1                 2         YES     INT64        NEVER                  None   \n",
       "2                 3         YES     INT64        NEVER                  None   \n",
       "3                 4         YES    STRING        NEVER                  None   \n",
       "4                 5         YES    STRING        NEVER                  None   \n",
       "\n",
       "  is_stored is_hidden is_updatable is_system_defined is_partitioning_column  \\\n",
       "0      None        NO         None                NO                     NO   \n",
       "1      None        NO         None                NO                     NO   \n",
       "2      None        NO         None                NO                     NO   \n",
       "3      None        NO         None                NO                     NO   \n",
       "4      None        NO         None                NO                     NO   \n",
       "\n",
       "   clustering_ordinal_position  \n",
       "0                          NaN  \n",
       "1                          NaN  \n",
       "2                          NaN  \n",
       "3                          NaN  \n",
       "4                          NaN  "
      ]
     },
     "execution_count": 6,
     "metadata": {},
     "output_type": "execute_result"
    }
   ],
   "source": [
    "query = f\"SELECT * FROM {DATANAME}.INFORMATION_SCHEMA.COLUMNS WHERE TABLE_NAME = '{DATANAME}_prepped'\"\n",
    "schema = bigquery.query(query).to_dataframe()\n",
    "schema"
   ]
  },
  {
   "cell_type": "markdown",
   "id": "d1c6e035-942b-42cc-92d4-209367617c23",
   "metadata": {},
   "source": [
    "### Determining the number of classes\n",
    "<code>VAR_TARGET</code> is used to classify the data into labels."
   ]
  },
  {
   "cell_type": "code",
   "execution_count": 7,
   "id": "45418c8d-1ee3-4689-a533-de954f7ac951",
   "metadata": {},
   "outputs": [
    {
     "data": {
      "text/html": [
       "<div>\n",
       "<style scoped>\n",
       "    .dataframe tbody tr th:only-of-type {\n",
       "        vertical-align: middle;\n",
       "    }\n",
       "\n",
       "    .dataframe tbody tr th {\n",
       "        vertical-align: top;\n",
       "    }\n",
       "\n",
       "    .dataframe thead th {\n",
       "        text-align: right;\n",
       "    }\n",
       "</style>\n",
       "<table border=\"1\" class=\"dataframe\">\n",
       "  <thead>\n",
       "    <tr style=\"text-align: right;\">\n",
       "      <th></th>\n",
       "      <th>TestPressureMbar</th>\n",
       "    </tr>\n",
       "  </thead>\n",
       "  <tbody>\n",
       "    <tr>\n",
       "      <th>0</th>\n",
       "      <td>12800</td>\n",
       "    </tr>\n",
       "    <tr>\n",
       "      <th>1</th>\n",
       "      <td>19200</td>\n",
       "    </tr>\n",
       "    <tr>\n",
       "      <th>2</th>\n",
       "      <td>25600</td>\n",
       "    </tr>\n",
       "    <tr>\n",
       "      <th>3</th>\n",
       "      <td>32000</td>\n",
       "    </tr>\n",
       "    <tr>\n",
       "      <th>4</th>\n",
       "      <td>38400</td>\n",
       "    </tr>\n",
       "    <tr>\n",
       "      <th>...</th>\n",
       "      <td>...</td>\n",
       "    </tr>\n",
       "    <tr>\n",
       "      <th>196</th>\n",
       "      <td>23800</td>\n",
       "    </tr>\n",
       "    <tr>\n",
       "      <th>197</th>\n",
       "      <td>30200</td>\n",
       "    </tr>\n",
       "    <tr>\n",
       "      <th>198</th>\n",
       "      <td>36600</td>\n",
       "    </tr>\n",
       "    <tr>\n",
       "      <th>199</th>\n",
       "      <td>43000</td>\n",
       "    </tr>\n",
       "    <tr>\n",
       "      <th>200</th>\n",
       "      <td>49400</td>\n",
       "    </tr>\n",
       "  </tbody>\n",
       "</table>\n",
       "<p>201 rows × 1 columns</p>\n",
       "</div>"
      ],
      "text/plain": [
       "     TestPressureMbar\n",
       "0               12800\n",
       "1               19200\n",
       "2               25600\n",
       "3               32000\n",
       "4               38400\n",
       "..                ...\n",
       "196             23800\n",
       "197             30200\n",
       "198             36600\n",
       "199             43000\n",
       "200             49400\n",
       "\n",
       "[201 rows x 1 columns]"
      ]
     },
     "execution_count": 7,
     "metadata": {},
     "output_type": "execute_result"
    }
   ],
   "source": [
    "nclasses = bigquery.query(query = f'SELECT DISTINCT {VAR_TARGET} FROM {DATANAME}.{DATANAME}_prepped WHERE {VAR_TARGET} is not null').to_dataframe()\n",
    "nclasses"
   ]
  },
  {
   "cell_type": "code",
   "execution_count": 8,
   "id": "bde7f1cd-4a39-4ce0-b193-7f7a6ab46c72",
   "metadata": {},
   "outputs": [
    {
     "data": {
      "text/plain": [
       "201"
      ]
     },
     "execution_count": 8,
     "metadata": {},
     "output_type": "execute_result"
    }
   ],
   "source": [
    "nclasses = nclasses.shape[0]\n",
    "nclasses"
   ]
  },
  {
   "cell_type": "markdown",
   "id": "aebef7f8-a07d-486e-8f83-16ba819b0dce",
   "metadata": {},
   "source": [
    "## Selecting Columns and Data Types\n",
    "\n",
    "Preparing tensorflow model inputs by omiting unused columns, and creating list of <code>selected_fields</code> from training source. The data types are defined, and remapped to desired precision. "
   ]
  },
  {
   "cell_type": "code",
   "execution_count": 9,
   "id": "71295757-78af-4f6e-a8e6-f637d8fbdf77",
   "metadata": {},
   "outputs": [],
   "source": [
    "# Make a list of columns to omit\n",
    "OMIT = VAR_OMIT.split() + ['splits']\n",
    "\n",
    "# use schema to prepare a list of columns to read from BigQuery\n",
    "selected_fields = schema[~schema.column_name.isin(OMIT)].column_name.tolist()\n",
    "\n",
    "# all the columns in this data source are either float64 or int64\n",
    "output_types = [dtypes.float64 if x=='FLOAT64' else dtypes.int64 for x in schema[~schema.column_name.isin(OMIT)].data_type.tolist()]\n"
   ]
  },
  {
   "cell_type": "markdown",
   "id": "43069b66-c7d1-45da-bd66-ad386374049f",
   "metadata": {},
   "source": [
    "## Reading Data from Data Warehouse source using Tensorflow I/O\n",
    "\n",
    "### Dividing the inputs into features and target\n",
    "We define a function that remaps input data from the source into features and target. The target is a on-hot encoding for multi-class classification and for binary classification.\n"
   ]
  },
  {
   "cell_type": "code",
   "execution_count": 10,
   "id": "e2bd6a82-e3be-406d-b5f8-c815162d019d",
   "metadata": {},
   "outputs": [],
   "source": [
    "def transTable(row_dict):\n",
    "    target = row_dict.pop(VAR_TARGET)\n",
    "    target = tf.one_hot(tf.cast(target,tf.int64), nclasses)\n",
    "    target = tf.cast(target, tf.float32)\n",
    "    return(row_dict, target)"
   ]
  },
  {
   "cell_type": "markdown",
   "id": "5ff11baf-5c50-4e4b-bbe1-9c523bba8e6b",
   "metadata": {},
   "source": [
    "### Setting the Tensorflow I/O  to read  batches of data from Data Warehouse Source\n",
    "\n"
   ]
  },
  {
   "cell_type": "code",
   "execution_count": 11,
   "id": "5fd10bcc-c31c-42f5-94fe-9fcbd92b44c0",
   "metadata": {},
   "outputs": [],
   "source": [
    "def bq_reader(split):\n",
    "    reader = BigQueryClient()\n",
    "\n",
    "    training = reader.read_session(\n",
    "        parent = f\"projects/{PROJECT_ID}\",\n",
    "        project_id = PROJECT_ID,\n",
    "        table_id = f\"{DATANAME}_prepped\",\n",
    "        dataset_id = DATANAME,\n",
    "        selected_fields = selected_fields,\n",
    "        output_types = output_types,\n",
    "        row_restriction = f\"splits='{split}'\",\n",
    "        requested_streams = 3\n",
    "    )\n",
    "    \n",
    "    return training"
   ]
  },
  {
   "cell_type": "code",
   "execution_count": 12,
   "id": "f6e9556a-fe11-43bc-a999-1638320202bc",
   "metadata": {},
   "outputs": [
    {
     "name": "stderr",
     "output_type": "stream",
     "text": [
      "2022-04-26 11:34:42.400266: I tensorflow/core/platform/profile_utils/cpu_utils.cc:104] CPU Frequency: 2299995000 Hz\n",
      "2022-04-26 11:34:42.400603: I tensorflow/compiler/xla/service/service.cc:168] XLA service 0x55c635917d80 initialized for platform Host (this does not guarantee that XLA will be used). Devices:\n",
      "2022-04-26 11:34:42.400629: I tensorflow/compiler/xla/service/service.cc:176]   StreamExecutor device (0): Host, Default Version\n",
      "2022-04-26 11:34:42.403265: I tensorflow/core/common_runtime/process_util.cc:146] Creating new thread pool with default inter op setting: 2. Tune using inter_op_parallelism_threads for best performance.\n"
     ]
    }
   ],
   "source": [
    "train = bq_reader('TRAIN').parallel_read_rows().prefetch(1).map(transTable).shuffle(BATCH_SIZE*10).batch(BATCH_SIZE)\n",
    "validate = bq_reader('VALIDATE').parallel_read_rows().prefetch(1).map(transTable).batch(BATCH_SIZE)\n",
    "test = bq_reader('TEST').parallel_read_rows().prefetch(1).map(transTable).batch(BATCH_SIZE)"
   ]
  },
  {
   "cell_type": "code",
   "execution_count": null,
   "id": "353799e2-6ff4-47c0-8272-2371e29f8f6a",
   "metadata": {},
   "outputs": [],
   "source": [
    "# for features, target in train.take(1):\n",
    "#     print('features:\\n',list(features.keys()))\n",
    "#     print('\\ntarget:\\n',target[0:10])"
   ]
  },
  {
   "cell_type": "code",
   "execution_count": 13,
   "id": "643e1577-de15-434a-9ece-f8471e31f59a",
   "metadata": {},
   "outputs": [],
   "source": [
    "# Logistic Regression\n",
    "\n",
    "# model input definitions\n",
    "feature_columns = {header: tf.feature_column.numeric_column(header) for header in selected_fields if header != VAR_TARGET}\n",
    "feature_layer_inputs = {header: tf.keras.layers.Input(shape = (1,), name = header) for header in selected_fields if header != VAR_TARGET}\n",
    "\n",
    "# feature columns to a Dense Feature Layer\n",
    "feature_layer_outputs = tf.keras.layers.DenseFeatures(feature_columns.values())(feature_layer_inputs)\n",
    "\n",
    "# batch normalization then Dense with softmax activation to nclasses\n",
    "layers = tf.keras.layers.BatchNormalization()(feature_layer_outputs)\n",
    "layers = tf.keras.layers.Dense(nclasses, activation = tf.nn.softmax)(layers)\n",
    "\n",
    "# the model\n",
    "model = tf.keras.Model(\n",
    "    inputs = feature_layer_inputs,\n",
    "    outputs = layers\n",
    ")\n",
    "opt = tf.keras.optimizers.SGD() #SGD or Adam\n",
    "loss = tf.keras.losses.CategoricalCrossentropy()\n",
    "model.compile(\n",
    "    optimizer = opt,\n",
    "    loss = loss,\n",
    "    metrics = ['accuracy', tf.keras.metrics.AUC(curve='PR')]\n",
    ")"
   ]
  },
  {
   "cell_type": "code",
   "execution_count": 14,
   "id": "5656788d-9318-49f5-bba8-97abef786118",
   "metadata": {},
   "outputs": [
    {
     "data": {
      "image/png": "[encoded data removed]",
      "text/plain": [
       "<IPython.core.display.Image object>"
      ]
     },
     "execution_count": 14,
     "metadata": {},
     "output_type": "execute_result"
    }
   ],
   "source": [
    "tf.keras.utils.plot_model(model, show_shapes=True, rankdir='LR')\n"
   ]
  },
  {
   "cell_type": "code",
   "execution_count": 15,
   "id": "a3d1139a-baa7-46ec-9e76-3253807adfee",
   "metadata": {},
   "outputs": [
    {
     "name": "stdout",
     "output_type": "stream",
     "text": [
      "Model: \"functional_1\"\n",
      "__________________________________________________________________________________________________\n",
      "Layer (type)                    Output Shape         Param #     Connected to                     \n",
      "==================================================================================================\n",
      "AlarmDiffPressure (InputLayer)  [(None, 1)]          0                                            \n",
      "__________________________________________________________________________________________________\n",
      "TestVolumeLitre (InputLayer)    [(None, 1)]          0                                            \n",
      "__________________________________________________________________________________________________\n",
      "dense_features (DenseFeatures)  (None, 2)            0           AlarmDiffPressure[0][0]          \n",
      "                                                                 TestVolumeLitre[0][0]            \n",
      "__________________________________________________________________________________________________\n",
      "batch_normalization (BatchNorma (None, 2)            8           dense_features[0][0]             \n",
      "__________________________________________________________________________________________________\n",
      "dense (Dense)                   (None, 201)          603         batch_normalization[0][0]        \n",
      "==================================================================================================\n",
      "Total params: 611\n",
      "Trainable params: 607\n",
      "Non-trainable params: 4\n",
      "__________________________________________________________________________________________________\n"
     ]
    }
   ],
   "source": [
    "model.summary()"
   ]
  },
  {
   "cell_type": "code",
   "execution_count": 16,
   "id": "a6498c9d-2fe7-47d9-a67d-8e11913e5f29",
   "metadata": {},
   "outputs": [
    {
     "name": "stderr",
     "output_type": "stream",
     "text": [
      "2022-04-26 11:35:06.955386: I tensorflow/core/profiler/lib/profiler_session.cc:164] Profiler session started.\n"
     ]
    },
    {
     "name": "stdout",
     "output_type": "stream",
     "text": [
      "Epoch 1/10\n",
      "      1/Unknown - 0s 237us/step - loss: 0.0000e+00 - accuracy: 0.0000e+00 - auc: 0.0000e+00WARNING:tensorflow:From /opt/conda/lib/python3.7/site-packages/tensorflow/python/ops/summary_ops_v2.py:1277: stop (from tensorflow.python.eager.profiler) is deprecated and will be removed after 2020-07-01.\n",
      "Instructions for updating:\n",
      "use `tf.profiler.experimental.stop` instead.\n",
      "WARNING:tensorflow:From /opt/conda/lib/python3.7/site-packages/tensorflow/python/ops/summary_ops_v2.py:1277: stop (from tensorflow.python.eager.profiler) is deprecated and will be removed after 2020-07-01.\n",
      "Instructions for updating:\n",
      "use `tf.profiler.experimental.stop` instead.\n",
      "      2/Unknown - 0s 99ms/step - loss: 0.0000e+00 - accuracy: 0.0000e+00 - auc: 0.0000e+00 "
     ]
    },
    {
     "name": "stderr",
     "output_type": "stream",
     "text": [
      "2022-04-26 11:35:08.698845: I tensorflow/core/profiler/lib/profiler_session.cc:164] Profiler session started.\n",
      "2022-04-26 11:35:08.841911: I tensorflow/core/profiler/rpc/client/save_profile.cc:176] Creating directory: temp/7/logs/20220426-113506/train/plugins/profile/2022_04_26_11_35_08\n",
      "2022-04-26 11:35:08.857675: I tensorflow/core/profiler/rpc/client/save_profile.cc:182] Dumped gzipped tool data for trace.json.gz to temp/7/logs/20220426-113506/train/plugins/profile/2022_04_26_11_35_08/tensorflow-tqcmlops.trace.json.gz\n",
      "2022-04-26 11:35:08.879341: I tensorflow/core/profiler/rpc/client/save_profile.cc:176] Creating directory: temp/7/logs/20220426-113506/train/plugins/profile/2022_04_26_11_35_08\n",
      "2022-04-26 11:35:08.881564: I tensorflow/core/profiler/rpc/client/save_profile.cc:182] Dumped gzipped tool data for memory_profile.json.gz to temp/7/logs/20220426-113506/train/plugins/profile/2022_04_26_11_35_08/tensorflow-tqcmlops.memory_profile.json.gz\n",
      "2022-04-26 11:35:08.883420: I tensorflow/python/profiler/internal/profiler_wrapper.cc:111] Creating directory: temp/7/logs/20220426-113506/train/plugins/profile/2022_04_26_11_35_08Dumped tool data for xplane.pb to temp/7/logs/20220426-113506/train/plugins/profile/2022_04_26_11_35_08/tensorflow-tqcmlops.xplane.pb\n",
      "Dumped tool data for overview_page.pb to temp/7/logs/20220426-113506/train/plugins/profile/2022_04_26_11_35_08/tensorflow-tqcmlops.overview_page.pb\n",
      "Dumped tool data for input_pipeline.pb to temp/7/logs/20220426-113506/train/plugins/profile/2022_04_26_11_35_08/tensorflow-tqcmlops.input_pipeline.pb\n",
      "Dumped tool data for tensorflow_stats.pb to temp/7/logs/20220426-113506/train/plugins/profile/2022_04_26_11_35_08/tensorflow-tqcmlops.tensorflow_stats.pb\n",
      "Dumped tool data for kernel_stats.pb to temp/7/logs/20220426-113506/train/plugins/profile/2022_04_26_11_35_08/tensorflow-tqcmlops.kernel_stats.pb\n",
      "\n"
     ]
    },
    {
     "name": "stdout",
     "output_type": "stream",
     "text": [
      "266/266 [==============================] - 29s 108ms/step - loss: 0.0000e+00 - accuracy: 0.0000e+00 - auc: 0.0000e+00 - val_loss: 0.0000e+00 - val_accuracy: 0.0000e+00 - val_auc: 0.0000e+00\n",
      "Epoch 2/10\n",
      "266/266 [==============================] - 28s 107ms/step - loss: 0.0000e+00 - accuracy: 0.0000e+00 - auc: 0.0000e+00 - val_loss: 0.0000e+00 - val_accuracy: 0.0000e+00 - val_auc: 0.0000e+00\n",
      "Epoch 3/10\n",
      "266/266 [==============================] - 29s 110ms/step - loss: 0.0000e+00 - accuracy: 0.0000e+00 - auc: 0.0000e+00 - val_loss: 0.0000e+00 - val_accuracy: 0.0000e+00 - val_auc: 0.0000e+00\n",
      "Epoch 4/10\n",
      "266/266 [==============================] - 28s 107ms/step - loss: 0.0000e+00 - accuracy: 0.0000e+00 - auc: 0.0000e+00 - val_loss: 0.0000e+00 - val_accuracy: 0.0000e+00 - val_auc: 0.0000e+00\n",
      "Epoch 5/10\n",
      "266/266 [==============================] - 29s 107ms/step - loss: 0.0000e+00 - accuracy: 0.0000e+00 - auc: 0.0000e+00 - val_loss: 0.0000e+00 - val_accuracy: 0.0000e+00 - val_auc: 0.0000e+00\n",
      "Epoch 6/10\n",
      "266/266 [==============================] - 29s 108ms/step - loss: 0.0000e+00 - accuracy: 0.0000e+00 - auc: 0.0000e+00 - val_loss: 0.0000e+00 - val_accuracy: 0.0000e+00 - val_auc: 0.0000e+00\n",
      "Epoch 7/10\n",
      "266/266 [==============================] - 28s 103ms/step - loss: 0.0000e+00 - accuracy: 0.0000e+00 - auc: 0.0000e+00 - val_loss: 0.0000e+00 - val_accuracy: 0.0000e+00 - val_auc: 0.0000e+00\n",
      "Epoch 8/10\n",
      "266/266 [==============================] - 27s 100ms/step - loss: 0.0000e+00 - accuracy: 0.0000e+00 - auc: 0.0000e+00 - val_loss: 0.0000e+00 - val_accuracy: 0.0000e+00 - val_auc: 0.0000e+00\n",
      "Epoch 9/10\n",
      "266/266 [==============================] - 28s 104ms/step - loss: 0.0000e+00 - accuracy: 0.0000e+00 - auc: 0.0000e+00 - val_loss: 0.0000e+00 - val_accuracy: 0.0000e+00 - val_auc: 0.0000e+00\n",
      "Epoch 10/10\n",
      "266/266 [==============================] - 25s 93ms/step - loss: 0.0000e+00 - accuracy: 0.0000e+00 - auc: 0.0000e+00 - val_loss: 0.0000e+00 - val_accuracy: 0.0000e+00 - val_auc: 0.0000e+00\n"
     ]
    }
   ],
   "source": [
    "# setup tensorboard logs and train\n",
    "tensorboard_callback = tf.keras.callbacks.TensorBoard(log_dir = os.path.join(DIR, \"logs\", datetime.now().strftime(\"%Y%m%d-%H%M%S\")), histogram_freq=1)\n",
    "history = model.fit(train, epochs = EPOCHS, callbacks = [tensorboard_callback], validation_data = validate)                                                                                                                                                                \n"
   ]
  },
  {
   "cell_type": "code",
   "execution_count": 17,
   "id": "caccf3c2-fc72-42f8-8641-5c9aa62bdc10",
   "metadata": {},
   "outputs": [
    {
     "data": {
      "text/plain": [
       "0.0"
      ]
     },
     "execution_count": 17,
     "metadata": {},
     "output_type": "execute_result"
    }
   ],
   "source": [
    "history.history['loss'][-1]"
   ]
  },
  {
   "cell_type": "code",
   "execution_count": 18,
   "id": "05530bb4-d156-48f4-af2c-f48ed29b8a66",
   "metadata": {},
   "outputs": [
    {
     "name": "stdout",
     "output_type": "stream",
     "text": [
      "34/34 [==============================] - 3s 82ms/step - loss: 0.0000e+00 - accuracy: 0.0000e+00 - auc: 0.0000e+00\n"
     ]
    }
   ],
   "source": [
    "loss, accuracy, auc = model.evaluate(test)"
   ]
  },
  {
   "cell_type": "code",
   "execution_count": 19,
   "id": "eb6c0e91-6993-404e-b280-4ec7ff0e8b96",
   "metadata": {},
   "outputs": [
    {
     "name": "stdout",
     "output_type": "stream",
     "text": [
      "34/34 [==============================] - 3s 77ms/step - loss: 0.0000e+00 - accuracy: 0.0000e+00 - auc: 0.0000e+00\n"
     ]
    }
   ],
   "source": [
    "loss, accuracy, auc = model.evaluate(validate)"
   ]
  },
  {
   "cell_type": "code",
   "execution_count": 20,
   "id": "31a9d76e-ded4-430d-9a1d-920e8fd45616",
   "metadata": {},
   "outputs": [
    {
     "name": "stdout",
     "output_type": "stream",
     "text": [
      "266/266 [==============================] - 23s 87ms/step - loss: 0.0000e+00 - accuracy: 0.0000e+00 - auc: 0.0000e+00\n"
     ]
    }
   ],
   "source": [
    "loss, accuracy, auc = model.evaluate(train)"
   ]
  },
  {
   "cell_type": "code",
   "execution_count": 21,
   "id": "fa22cb97-b658-453a-81ed-f497c3954bc3",
   "metadata": {},
   "outputs": [
    {
     "data": {
      "text/plain": [
       "array([0.00522721, 0.00507356, 0.00520584, 0.00511371, 0.00556389,\n",
       "       0.00496191, 0.00501617, 0.005401  , 0.00547496, 0.00485341,\n",
       "       0.00433205, 0.00485551, 0.00462134, 0.00433915, 0.00487604,\n",
       "       0.00501349, 0.0047436 , 0.00471795, 0.00514931, 0.00448117,\n",
       "       0.00496489, 0.00432876, 0.00452599, 0.00526601, 0.00476536,\n",
       "       0.0046434 , 0.00455644, 0.0055368 , 0.00519737, 0.00563021,\n",
       "       0.00514558, 0.0052565 , 0.00454907, 0.0051782 , 0.00485389,\n",
       "       0.00526117, 0.00494098, 0.00464854, 0.00476547, 0.00549748,\n",
       "       0.00506927, 0.00456959, 0.00483761, 0.00485287, 0.00493436,\n",
       "       0.00510068, 0.00555724, 0.00480719, 0.0049443 , 0.0047423 ,\n",
       "       0.00491435, 0.00526097, 0.00517786, 0.0045667 , 0.00504001,\n",
       "       0.00517804, 0.00523952, 0.00509554, 0.00568576, 0.00486719,\n",
       "       0.00486643, 0.00546043, 0.00520131, 0.00476808, 0.00509487,\n",
       "       0.00518969, 0.00488877, 0.00538765, 0.0044329 , 0.00466103,\n",
       "       0.00527066, 0.00446926, 0.00442298, 0.00463186, 0.00479783,\n",
       "       0.00466526, 0.00461933, 0.00458118, 0.00466421, 0.00461308,\n",
       "       0.00493788, 0.00464851, 0.00460917, 0.0046546 , 0.00525188,\n",
       "       0.00560633, 0.00460732, 0.00491656, 0.00514165, 0.004939  ,\n",
       "       0.00449981, 0.00481371, 0.00450352, 0.00461835, 0.00564624,\n",
       "       0.00469534, 0.00514746, 0.00486801, 0.00472367, 0.00469037,\n",
       "       0.00492151, 0.00451613, 0.00470758, 0.00506818, 0.00518525,\n",
       "       0.00575051, 0.00465349, 0.00483333, 0.00463377, 0.005623  ,\n",
       "       0.00509683, 0.00506237, 0.00472457, 0.00516248, 0.00503627,\n",
       "       0.00532636, 0.00469942, 0.00493114, 0.00529305, 0.00447338,\n",
       "       0.004731  , 0.00524094, 0.00530717, 0.00547547, 0.00479379,\n",
       "       0.00482423, 0.00550602, 0.00504867, 0.00499757, 0.00488258,\n",
       "       0.00494966, 0.00435725, 0.00456446, 0.00496964, 0.00447629,\n",
       "       0.00554004, 0.00495447, 0.00507691, 0.00476381, 0.00547264,\n",
       "       0.00521546, 0.00522053, 0.00460377, 0.00477562, 0.00505842,\n",
       "       0.00499518, 0.00469029, 0.0052429 , 0.0051327 , 0.0048469 ,\n",
       "       0.00494752, 0.00516724, 0.00567601, 0.00561219, 0.00468286,\n",
       "       0.00547416, 0.00463818, 0.00489062, 0.00545984, 0.00528657,\n",
       "       0.00469512, 0.00494089, 0.00489897, 0.00551882, 0.00444118,\n",
       "       0.00489479, 0.00482435, 0.00563171, 0.00570928, 0.00538368,\n",
       "       0.00527776, 0.00510107, 0.00481936, 0.00499855, 0.00482696,\n",
       "       0.00488474, 0.00461142, 0.00512667, 0.00468345, 0.00534345,\n",
       "       0.0052007 , 0.00489463, 0.00478244, 0.00474422, 0.00480725,\n",
       "       0.00505832, 0.00453332, 0.0056777 , 0.00497472, 0.0050565 ,\n",
       "       0.00495433, 0.0047803 , 0.00445779, 0.00470163, 0.00509943,\n",
       "       0.00550069, 0.00537649, 0.00507272, 0.00515021, 0.00491994,\n",
       "       0.00521538], dtype=float32)"
      ]
     },
     "execution_count": 21,
     "metadata": {},
     "output_type": "execute_result"
    }
   ],
   "source": [
    "model.predict(test.take(1))[0]"
   ]
  },
  {
   "cell_type": "code",
   "execution_count": 22,
   "id": "4b551479-ee3a-49e7-b669-553e9a8073f1",
   "metadata": {},
   "outputs": [],
   "source": [
    "%load_ext tensorboard"
   ]
  },
  {
   "cell_type": "code",
   "execution_count": 23,
   "id": "f214afae-a2d7-4004-ba3f-8788374d21d3",
   "metadata": {},
   "outputs": [
    {
     "data": {
      "text/plain": [
       "ERROR: Failed to launch TensorBoard (exited with 1).\n",
       "Contents of stderr:\n",
       "Traceback (most recent call last):\n",
       "  File \"/opt/conda/bin/tensorboard\", line 10, in <module>\n",
       "    sys.exit(run_main())\n",
       "  File \"/opt/conda/lib/python3.7/site-packages/tensorboard/main.py\", line 65, in run_main\n",
       "    default.get_plugins(),\n",
       "  File \"/opt/conda/lib/python3.7/site-packages/tensorboard/default.py\", line 113, in get_plugins\n",
       "    return get_static_plugins() + get_dynamic_plugins()\n",
       "  File \"/opt/conda/lib/python3.7/site-packages/tensorboard/default.py\", line 151, in get_dynamic_plugins\n",
       "    \"tensorboard_plugins\"\n",
       "  File \"/opt/conda/lib/python3.7/site-packages/tensorboard/default.py\", line 150, in <listcomp>\n",
       "    for entry_point in pkg_resources.iter_entry_points(\n",
       "  File \"/opt/conda/lib/python3.7/site-packages/pkg_resources/__init__.py\", line 2464, in load\n",
       "    self.require(*args, **kwargs)\n",
       "  File \"/opt/conda/lib/python3.7/site-packages/pkg_resources/__init__.py\", line 2487, in require\n",
       "    items = working_set.resolve(reqs, env, installer, extras=self.extras)\n",
       "  File \"/opt/conda/lib/python3.7/site-packages/pkg_resources/__init__.py\", line 782, in resolve\n",
       "    raise VersionConflict(dist, req).with_context(dependent_req)\n",
       "pkg_resources.VersionConflict: (google-auth 2.6.0 (/opt/conda/lib/python3.7/site-packages), Requirement.parse('google-auth<2,>=1.6.3'))"
      ]
     },
     "metadata": {},
     "output_type": "display_data"
    }
   ],
   "source": [
    "%tensorboard --logdir $DIR/logs"
   ]
  },
  {
   "cell_type": "code",
   "execution_count": 24,
   "id": "43d7dd80-947a-4ab4-922b-50eb4d99eb1a",
   "metadata": {},
   "outputs": [
    {
     "name": "stdout",
     "output_type": "stream",
     "text": [
      "WARNING:tensorflow:From /opt/conda/lib/python3.7/site-packages/tensorflow/python/training/tracking/tracking.py:111: Model.state_updates (from tensorflow.python.keras.engine.training) is deprecated and will be removed in a future version.\n",
      "Instructions for updating:\n",
      "This property should not be used in TensorFlow 2.0, as updates are applied automatically.\n",
      "WARNING:tensorflow:From /opt/conda/lib/python3.7/site-packages/tensorflow/python/training/tracking/tracking.py:111: Model.state_updates (from tensorflow.python.keras.engine.training) is deprecated and will be removed in a future version.\n",
      "Instructions for updating:\n",
      "This property should not be used in TensorFlow 2.0, as updates are applied automatically.\n",
      "WARNING:tensorflow:From /opt/conda/lib/python3.7/site-packages/tensorflow/python/training/tracking/tracking.py:111: Layer.updates (from tensorflow.python.keras.engine.base_layer) is deprecated and will be removed in a future version.\n",
      "Instructions for updating:\n",
      "This property should not be used in TensorFlow 2.0, as updates are applied automatically.\n",
      "WARNING:tensorflow:From /opt/conda/lib/python3.7/site-packages/tensorflow/python/training/tracking/tracking.py:111: Layer.updates (from tensorflow.python.keras.engine.base_layer) is deprecated and will be removed in a future version.\n",
      "Instructions for updating:\n",
      "This property should not be used in TensorFlow 2.0, as updates are applied automatically.\n"
     ]
    },
    {
     "name": "stderr",
     "output_type": "stream",
     "text": [
      "2022-04-26 12:50:52.324461: W tensorflow/python/util/util.cc:348] Sets are not currently considered sequences, but this may change in the future, so consider avoiding using them.\n"
     ]
    },
    {
     "name": "stdout",
     "output_type": "stream",
     "text": [
      "INFO:tensorflow:Assets written to: gs://mlopstqc/leaktest/models/7/assets\n",
      "INFO:tensorflow:Assets written to: gs://mlopstqc/leaktest/models/7/assets\n"
     ]
    }
   ],
   "source": [
    "model.save(URI)"
   ]
  },
  {
   "cell_type": "code",
   "execution_count": 25,
   "id": "de0e0899-4563-4272-99f6-eeb3c325a9b3",
   "metadata": {},
   "outputs": [
    {
     "name": "stdout",
     "output_type": "stream",
     "text": [
      "INFO:google.cloud.aiplatform.models:Creating Model\n",
      "INFO:google.cloud.aiplatform.models:Create Model backing LRO: projects/969346734638/locations/us-central1/models/2255973559824285696/operations/8661819081676029952\n",
      "INFO:google.cloud.aiplatform.models:Model created. Resource name: projects/969346734638/locations/us-central1/models/2255973559824285696\n",
      "INFO:google.cloud.aiplatform.models:To use this Model in another session:\n",
      "INFO:google.cloud.aiplatform.models:model = aiplatform.Model('projects/969346734638/locations/us-central1/models/2255973559824285696')\n"
     ]
    }
   ],
   "source": [
    "model = aiplatform.Model.upload(\n",
    "    display_name = f'{IDENTIFIER}_{DATANAME}_{TIMESTAMP}',\n",
    "    serving_container_image_uri = DEPLOY_IMAGE,\n",
    "    artifact_uri = URI,\n",
    "    labels = {'notebook':f'{IDENTIFIER}'}\n",
    ")"
   ]
  },
  {
   "cell_type": "code",
   "execution_count": 27,
   "id": "4f9c66d0-8fa2-42d0-8b6e-0b49d9cc281a",
   "metadata": {},
   "outputs": [
    {
     "name": "stdout",
     "output_type": "stream",
     "text": [
      "INFO:google.cloud.aiplatform.models:Creating Endpoint\n",
      "INFO:google.cloud.aiplatform.models:Create Endpoint backing LRO: projects/969346734638/locations/us-central1/endpoints/263152714945396736/operations/3366711819795169280\n",
      "INFO:google.cloud.aiplatform.models:Endpoint created. Resource name: projects/969346734638/locations/us-central1/endpoints/263152714945396736\n",
      "INFO:google.cloud.aiplatform.models:To use this Endpoint in another session:\n",
      "INFO:google.cloud.aiplatform.models:endpoint = aiplatform.Endpoint('projects/969346734638/locations/us-central1/endpoints/263152714945396736')\n"
     ]
    }
   ],
   "source": [
    "endpoint = aiplatform.Endpoint.create(\n",
    "    display_name = f'{IDENTIFIER}_{DATANAME}_{TIMESTAMP}',\n",
    "    labels = {'notebook':f'{IDENTIFIER}'}\n",
    ")"
   ]
  },
  {
   "cell_type": "code",
   "execution_count": 28,
   "id": "e77d2b9d-3455-4ed2-9419-886c3e18765a",
   "metadata": {},
   "outputs": [
    {
     "data": {
      "text/plain": [
       "'7_leaktest_20220426113339'"
      ]
     },
     "execution_count": 28,
     "metadata": {},
     "output_type": "execute_result"
    }
   ],
   "source": [
    "endpoint.display_name"
   ]
  },
  {
   "cell_type": "code",
   "execution_count": 30,
   "id": "10bd1a97-9416-4331-a65e-692d0b618d45",
   "metadata": {},
   "outputs": [
    {
     "name": "stdout",
     "output_type": "stream",
     "text": [
      "INFO:google.cloud.aiplatform.models:Deploying Model projects/969346734638/locations/us-central1/models/2255973559824285696 to Endpoint : projects/969346734638/locations/us-central1/endpoints/263152714945396736\n",
      "INFO:google.cloud.aiplatform.models:Deploy Endpoint model backing LRO: projects/969346734638/locations/us-central1/endpoints/263152714945396736/operations/1609182065213833216\n",
      "INFO:google.cloud.aiplatform.models:Endpoint model deployed. Resource name: projects/969346734638/locations/us-central1/endpoints/263152714945396736\n"
     ]
    }
   ],
   "source": [
    "endpoint.deploy(\n",
    "    model = model,\n",
    "    deployed_model_display_name = f'{IDENTIFIER}_{DATANAME}_{TIMESTAMP}',\n",
    "    traffic_percentage = 100,\n",
    "    machine_type = DEPLOY_COMPUTE,\n",
    "    min_replica_count = 1,\n",
    "    max_replica_count = 1\n",
    ")"
   ]
  },
  {
   "cell_type": "code",
   "execution_count": 31,
   "id": "b56018ab-99e5-4880-bd24-78ca6daae404",
   "metadata": {},
   "outputs": [],
   "source": [
    "pred = bigquery.query(query = f\"SELECT * FROM {DATANAME}.{DATANAME}_prepped WHERE splits='TEST' LIMIT 10\").to_dataframe()\n"
   ]
  },
  {
   "cell_type": "code",
   "execution_count": 32,
   "id": "1e3fcc9b-7546-4726-9015-559656d7defd",
   "metadata": {},
   "outputs": [
    {
     "data": {
      "text/html": [
       "<div>\n",
       "<style scoped>\n",
       "    .dataframe tbody tr th:only-of-type {\n",
       "        vertical-align: middle;\n",
       "    }\n",
       "\n",
       "    .dataframe tbody tr th {\n",
       "        vertical-align: top;\n",
       "    }\n",
       "\n",
       "    .dataframe thead th {\n",
       "        text-align: right;\n",
       "    }\n",
       "</style>\n",
       "<table border=\"1\" class=\"dataframe\">\n",
       "  <thead>\n",
       "    <tr style=\"text-align: right;\">\n",
       "      <th></th>\n",
       "      <th>TestVolumeLitre</th>\n",
       "      <th>AlarmDiffPressure</th>\n",
       "      <th>TestPressureMbar</th>\n",
       "      <th>transaction_id</th>\n",
       "      <th>splits</th>\n",
       "    </tr>\n",
       "  </thead>\n",
       "  <tbody>\n",
       "    <tr>\n",
       "      <th>0</th>\n",
       "      <td>0.2</td>\n",
       "      <td>500</td>\n",
       "      <td>12800</td>\n",
       "      <td>68cfe17b-33f6-4240-9254-d77514feb083</td>\n",
       "      <td>TEST</td>\n",
       "    </tr>\n",
       "    <tr>\n",
       "      <th>1</th>\n",
       "      <td>10.0</td>\n",
       "      <td>320</td>\n",
       "      <td>12800</td>\n",
       "      <td>e6cc26be-a050-4c91-99cf-52c2dcea0924</td>\n",
       "      <td>TEST</td>\n",
       "    </tr>\n",
       "    <tr>\n",
       "      <th>2</th>\n",
       "      <td>0.1</td>\n",
       "      <td>320</td>\n",
       "      <td>12800</td>\n",
       "      <td>b5e82b71-f62a-400a-9cf1-f551b2b57bf9</td>\n",
       "      <td>TEST</td>\n",
       "    </tr>\n",
       "    <tr>\n",
       "      <th>3</th>\n",
       "      <td>0.1</td>\n",
       "      <td>320</td>\n",
       "      <td>12800</td>\n",
       "      <td>d2f9cc2b-4aed-4734-a723-17b44020021b</td>\n",
       "      <td>TEST</td>\n",
       "    </tr>\n",
       "  </tbody>\n",
       "</table>\n",
       "</div>"
      ],
      "text/plain": [
       "   TestVolumeLitre  AlarmDiffPressure  TestPressureMbar  \\\n",
       "0              0.2                500             12800   \n",
       "1             10.0                320             12800   \n",
       "2              0.1                320             12800   \n",
       "3              0.1                320             12800   \n",
       "\n",
       "                         transaction_id splits  \n",
       "0  68cfe17b-33f6-4240-9254-d77514feb083   TEST  \n",
       "1  e6cc26be-a050-4c91-99cf-52c2dcea0924   TEST  \n",
       "2  b5e82b71-f62a-400a-9cf1-f551b2b57bf9   TEST  \n",
       "3  d2f9cc2b-4aed-4734-a723-17b44020021b   TEST  "
      ]
     },
     "execution_count": 32,
     "metadata": {},
     "output_type": "execute_result"
    }
   ],
   "source": [
    "pred.head(4)"
   ]
  },
  {
   "cell_type": "code",
   "execution_count": 33,
   "id": "7559ad5a-382c-4e29-b6bc-5ef299f05644",
   "metadata": {},
   "outputs": [],
   "source": [
    "newob = pred[pred.columns[~pred.columns.isin(VAR_OMIT.split()+[VAR_TARGET, 'splits'])]].to_dict(orient='records')[0]\n",
    "#newob"
   ]
  },
  {
   "cell_type": "code",
   "execution_count": 34,
   "id": "f6d20710-6b8b-4888-bff8-d5db69ff976b",
   "metadata": {},
   "outputs": [],
   "source": [
    "instances = [json_format.ParseDict(newob, Value())]\n",
    "parameters = json_format.ParseDict({}, Value())"
   ]
  },
  {
   "cell_type": "code",
   "execution_count": 35,
   "id": "730e98c9-25da-4fb4-9f85-b1a2ea5a0eef",
   "metadata": {},
   "outputs": [
    {
     "data": {
      "text/plain": [
       "Prediction(predictions=[[0.00522721186, 0.00507355947, 0.00520583754, 0.00511370599, 0.00556389289, 0.00496191252, 0.00501616718, 0.00540099479, 0.00547495717, 0.00485341297, 0.00433204928, 0.00485550892, 0.00462133903, 0.00433915, 0.00487604085, 0.0050134859, 0.00474360166, 0.00471795, 0.00514931185, 0.00448117033, 0.0049648853, 0.00432876218, 0.0045259851, 0.00526601402, 0.00476536108, 0.00464340113, 0.00455644261, 0.00553679559, 0.00519737415, 0.0056302133, 0.00514557539, 0.00525650335, 0.0045490656, 0.00517820101, 0.00485389121, 0.00526117114, 0.00494097825, 0.00464853877, 0.00476547517, 0.00549747748, 0.00506927306, 0.00456959475, 0.00483761495, 0.0048528742, 0.00493436167, 0.00510068471, 0.00555723766, 0.00480718771, 0.00494429516, 0.00474229874, 0.00491434569, 0.00526097137, 0.00517785782, 0.00456670485, 0.00504001, 0.00517804315, 0.00523951603, 0.00509553822, 0.00568575738, 0.00486719236, 0.0048664324, 0.00546042621, 0.00520131411, 0.00476808427, 0.00509487186, 0.00518969353, 0.00488877, 0.00538764754, 0.00443289522, 0.00466102781, 0.00527065899, 0.00446925545, 0.00442297617, 0.00463185739, 0.00479783071, 0.00466525834, 0.00461932551, 0.0045811832, 0.00466420734, 0.00461308053, 0.00493788114, 0.00464850757, 0.00460916897, 0.00465460028, 0.00525187887, 0.0056063314, 0.00460732263, 0.00491656223, 0.00514165172, 0.00493900059, 0.00449980842, 0.00481370976, 0.00450351508, 0.00461835321, 0.00564624183, 0.00469533773, 0.00514745945, 0.0048680082, 0.00472367136, 0.00469036819, 0.00492150523, 0.00451612752, 0.00470758276, 0.00506817689, 0.00518524786, 0.00575051364, 0.00465349481, 0.00483333366, 0.00463376939, 0.00562300347, 0.00509682577, 0.00506237, 0.00472457195, 0.00516248075, 0.00503626699, 0.00532636233, 0.00469942112, 0.00493114116, 0.00529304659, 0.00447337469, 0.00473099621, 0.00524094, 0.00530716777, 0.00547546893, 0.00479378505, 0.00482422858, 0.00550601678, 0.00504867081, 0.00499757333, 0.00488257967, 0.00494965818, 0.00435725367, 0.00456445664, 0.00496963738, 0.00447628461, 0.00554004312, 0.00495446613, 0.00507690571, 0.00476381322, 0.00547264144, 0.00521546416, 0.00522053288, 0.00460377242, 0.00477561913, 0.00505841617, 0.00499517703, 0.00469029415, 0.00524290418, 0.00513269473, 0.0048468993, 0.0049475194, 0.00516723702, 0.00567601109, 0.00561219407, 0.0046828636, 0.00547416322, 0.00463817921, 0.00489062, 0.00545984367, 0.00528657297, 0.00469511608, 0.00494088605, 0.00489896955, 0.00551882107, 0.00444117934, 0.00489478791, 0.00482434733, 0.00563170668, 0.00570927886, 0.00538367871, 0.00527776266, 0.00510107167, 0.00481936196, 0.00499855075, 0.00482696062, 0.00488473754, 0.00461141858, 0.00512667047, 0.00468345452, 0.00534345116, 0.0052007, 0.00489462679, 0.00478243502, 0.00474421494, 0.00480725383, 0.00505832, 0.0045333188, 0.0056777033, 0.00497471914, 0.00505650137, 0.0049543269, 0.0047802995, 0.00445778575, 0.00470163254, 0.00509943208, 0.00550068682, 0.00537648611, 0.00507271802, 0.00515021197, 0.004919942, 0.00521537848]], deployed_model_id='149102572819447808', explanations=None)"
      ]
     },
     "execution_count": 35,
     "metadata": {},
     "output_type": "execute_result"
    }
   ],
   "source": [
    "prediction = endpoint.predict(instances=instances, parameters=parameters)\n",
    "prediction"
   ]
  },
  {
   "cell_type": "code",
   "execution_count": 36,
   "id": "a4252c4c-209b-4748-a605-dd617818ff40",
   "metadata": {},
   "outputs": [
    {
     "data": {
      "text/plain": [
       "[0.00522721186,\n",
       " 0.00507355947,\n",
       " 0.00520583754,\n",
       " 0.00511370599,\n",
       " 0.00556389289,\n",
       " 0.00496191252,\n",
       " 0.00501616718,\n",
       " 0.00540099479,\n",
       " 0.00547495717,\n",
       " 0.00485341297,\n",
       " 0.00433204928,\n",
       " 0.00485550892,\n",
       " 0.00462133903,\n",
       " 0.00433915,\n",
       " 0.00487604085,\n",
       " 0.0050134859,\n",
       " 0.00474360166,\n",
       " 0.00471795,\n",
       " 0.00514931185,\n",
       " 0.00448117033,\n",
       " 0.0049648853,\n",
       " 0.00432876218,\n",
       " 0.0045259851,\n",
       " 0.00526601402,\n",
       " 0.00476536108,\n",
       " 0.00464340113,\n",
       " 0.00455644261,\n",
       " 0.00553679559,\n",
       " 0.00519737415,\n",
       " 0.0056302133,\n",
       " 0.00514557539,\n",
       " 0.00525650335,\n",
       " 0.0045490656,\n",
       " 0.00517820101,\n",
       " 0.00485389121,\n",
       " 0.00526117114,\n",
       " 0.00494097825,\n",
       " 0.00464853877,\n",
       " 0.00476547517,\n",
       " 0.00549747748,\n",
       " 0.00506927306,\n",
       " 0.00456959475,\n",
       " 0.00483761495,\n",
       " 0.0048528742,\n",
       " 0.00493436167,\n",
       " 0.00510068471,\n",
       " 0.00555723766,\n",
       " 0.00480718771,\n",
       " 0.00494429516,\n",
       " 0.00474229874,\n",
       " 0.00491434569,\n",
       " 0.00526097137,\n",
       " 0.00517785782,\n",
       " 0.00456670485,\n",
       " 0.00504001,\n",
       " 0.00517804315,\n",
       " 0.00523951603,\n",
       " 0.00509553822,\n",
       " 0.00568575738,\n",
       " 0.00486719236,\n",
       " 0.0048664324,\n",
       " 0.00546042621,\n",
       " 0.00520131411,\n",
       " 0.00476808427,\n",
       " 0.00509487186,\n",
       " 0.00518969353,\n",
       " 0.00488877,\n",
       " 0.00538764754,\n",
       " 0.00443289522,\n",
       " 0.00466102781,\n",
       " 0.00527065899,\n",
       " 0.00446925545,\n",
       " 0.00442297617,\n",
       " 0.00463185739,\n",
       " 0.00479783071,\n",
       " 0.00466525834,\n",
       " 0.00461932551,\n",
       " 0.0045811832,\n",
       " 0.00466420734,\n",
       " 0.00461308053,\n",
       " 0.00493788114,\n",
       " 0.00464850757,\n",
       " 0.00460916897,\n",
       " 0.00465460028,\n",
       " 0.00525187887,\n",
       " 0.0056063314,\n",
       " 0.00460732263,\n",
       " 0.00491656223,\n",
       " 0.00514165172,\n",
       " 0.00493900059,\n",
       " 0.00449980842,\n",
       " 0.00481370976,\n",
       " 0.00450351508,\n",
       " 0.00461835321,\n",
       " 0.00564624183,\n",
       " 0.00469533773,\n",
       " 0.00514745945,\n",
       " 0.0048680082,\n",
       " 0.00472367136,\n",
       " 0.00469036819,\n",
       " 0.00492150523,\n",
       " 0.00451612752,\n",
       " 0.00470758276,\n",
       " 0.00506817689,\n",
       " 0.00518524786,\n",
       " 0.00575051364,\n",
       " 0.00465349481,\n",
       " 0.00483333366,\n",
       " 0.00463376939,\n",
       " 0.00562300347,\n",
       " 0.00509682577,\n",
       " 0.00506237,\n",
       " 0.00472457195,\n",
       " 0.00516248075,\n",
       " 0.00503626699,\n",
       " 0.00532636233,\n",
       " 0.00469942112,\n",
       " 0.00493114116,\n",
       " 0.00529304659,\n",
       " 0.00447337469,\n",
       " 0.00473099621,\n",
       " 0.00524094,\n",
       " 0.00530716777,\n",
       " 0.00547546893,\n",
       " 0.00479378505,\n",
       " 0.00482422858,\n",
       " 0.00550601678,\n",
       " 0.00504867081,\n",
       " 0.00499757333,\n",
       " 0.00488257967,\n",
       " 0.00494965818,\n",
       " 0.00435725367,\n",
       " 0.00456445664,\n",
       " 0.00496963738,\n",
       " 0.00447628461,\n",
       " 0.00554004312,\n",
       " 0.00495446613,\n",
       " 0.00507690571,\n",
       " 0.00476381322,\n",
       " 0.00547264144,\n",
       " 0.00521546416,\n",
       " 0.00522053288,\n",
       " 0.00460377242,\n",
       " 0.00477561913,\n",
       " 0.00505841617,\n",
       " 0.00499517703,\n",
       " 0.00469029415,\n",
       " 0.00524290418,\n",
       " 0.00513269473,\n",
       " 0.0048468993,\n",
       " 0.0049475194,\n",
       " 0.00516723702,\n",
       " 0.00567601109,\n",
       " 0.00561219407,\n",
       " 0.0046828636,\n",
       " 0.00547416322,\n",
       " 0.00463817921,\n",
       " 0.00489062,\n",
       " 0.00545984367,\n",
       " 0.00528657297,\n",
       " 0.00469511608,\n",
       " 0.00494088605,\n",
       " 0.00489896955,\n",
       " 0.00551882107,\n",
       " 0.00444117934,\n",
       " 0.00489478791,\n",
       " 0.00482434733,\n",
       " 0.00563170668,\n",
       " 0.00570927886,\n",
       " 0.00538367871,\n",
       " 0.00527776266,\n",
       " 0.00510107167,\n",
       " 0.00481936196,\n",
       " 0.00499855075,\n",
       " 0.00482696062,\n",
       " 0.00488473754,\n",
       " 0.00461141858,\n",
       " 0.00512667047,\n",
       " 0.00468345452,\n",
       " 0.00534345116,\n",
       " 0.0052007,\n",
       " 0.00489462679,\n",
       " 0.00478243502,\n",
       " 0.00474421494,\n",
       " 0.00480725383,\n",
       " 0.00505832,\n",
       " 0.0045333188,\n",
       " 0.0056777033,\n",
       " 0.00497471914,\n",
       " 0.00505650137,\n",
       " 0.0049543269,\n",
       " 0.0047802995,\n",
       " 0.00445778575,\n",
       " 0.00470163254,\n",
       " 0.00509943208,\n",
       " 0.00550068682,\n",
       " 0.00537648611,\n",
       " 0.00507271802,\n",
       " 0.00515021197,\n",
       " 0.004919942,\n",
       " 0.00521537848]"
      ]
     },
     "execution_count": 36,
     "metadata": {},
     "output_type": "execute_result"
    }
   ],
   "source": [
    "prediction.predictions[0]"
   ]
  },
  {
   "cell_type": "code",
   "execution_count": 37,
   "id": "f762cbee-d4a2-41ab-b7ea-5270fe27f212",
   "metadata": {},
   "outputs": [
    {
     "data": {
      "text/plain": [
       "105"
      ]
     },
     "execution_count": 37,
     "metadata": {},
     "output_type": "execute_result"
    }
   ],
   "source": [
    "np.argmax(prediction.predictions[0])"
   ]
  },
  {
   "cell_type": "code",
   "execution_count": 38,
   "id": "228cf8c8-525a-4acb-9bfa-86a459ae56eb",
   "metadata": {},
   "outputs": [],
   "source": [
    "with open(f'{DIR}/request.json','w') as file:\n",
    "    file.write(json.dumps({\"instances\": [newob]}))"
   ]
  },
  {
   "cell_type": "code",
   "execution_count": 39,
   "id": "46416ba7-8fb4-4f73-ad97-049254e378b4",
   "metadata": {},
   "outputs": [
    {
     "name": "stderr",
     "output_type": "stream",
     "text": [
      "E0426 13:09:06.830921532   23460 fork_posix.cc:70]           Fork support is only compatible with the epoll1 and poll polling strategies\n"
     ]
    },
    {
     "name": "stdout",
     "output_type": "stream",
     "text": [
      "{\n",
      "  \"predictions\": [\n",
      "    [\n",
      "      0.00522721186,\n",
      "      0.00507355947,\n",
      "      0.00520583754,\n",
      "      0.00511370599,\n",
      "      0.00556389289,\n",
      "      0.00496191252,\n",
      "      0.00501616718,\n",
      "      0.00540099479,\n",
      "      0.00547495717,\n",
      "      0.00485341297,\n",
      "      0.00433204928,\n",
      "      0.00485550892,\n",
      "      0.00462133903,\n",
      "      0.00433915,\n",
      "      0.00487604085,\n",
      "      0.0050134859,\n",
      "      0.00474360166,\n",
      "      0.00471795,\n",
      "      0.00514931185,\n",
      "      0.00448117033,\n",
      "      0.0049648853,\n",
      "      0.00432876218,\n",
      "      0.0045259851,\n",
      "      0.00526601402,\n",
      "      0.00476536108,\n",
      "      0.00464340113,\n",
      "      0.00455644261,\n",
      "      0.00553679559,\n",
      "      0.00519737415,\n",
      "      0.0056302133,\n",
      "      0.00514557539,\n",
      "      0.00525650335,\n",
      "      0.0045490656,\n",
      "      0.00517820101,\n",
      "      0.00485389121,\n",
      "      0.00526117114,\n",
      "      0.00494097825,\n",
      "      0.00464853877,\n",
      "      0.00476547517,\n",
      "      0.00549747748,\n",
      "      0.00506927306,\n",
      "      0.00456959475,\n",
      "      0.00483761495,\n",
      "      0.0048528742,\n",
      "      0.00493436167,\n",
      "      0.00510068471,\n",
      "      0.00555723766,\n",
      "      0.00480718771,\n",
      "      0.00494429516,\n",
      "      0.00474229874,\n",
      "      0.00491434569,\n",
      "      0.00526097137,\n",
      "      0.00517785782,\n",
      "      0.00456670485,\n",
      "      0.00504001,\n",
      "      0.00517804315,\n",
      "      0.00523951603,\n",
      "      0.00509553822,\n",
      "      0.00568575738,\n",
      "      0.00486719236,\n",
      "      0.0048664324,\n",
      "      0.00546042621,\n",
      "      0.00520131411,\n",
      "      0.00476808427,\n",
      "      0.00509487186,\n",
      "      0.00518969353,\n",
      "      0.00488877,\n",
      "      0.00538764754,\n",
      "      0.00443289522,\n",
      "      0.00466102781,\n",
      "      0.00527065899,\n",
      "      0.00446925545,\n",
      "      0.00442297617,\n",
      "      0.00463185739,\n",
      "      0.00479783071,\n",
      "      0.00466525834,\n",
      "      0.00461932551,\n",
      "      0.0045811832,\n",
      "      0.00466420734,\n",
      "      0.00461308053,\n",
      "      0.00493788114,\n",
      "      0.00464850757,\n",
      "      0.00460916897,\n",
      "      0.00465460028,\n",
      "      0.00525187887,\n",
      "      0.0056063314,\n",
      "      0.00460732263,\n",
      "      0.00491656223,\n",
      "      0.00514165172,\n",
      "      0.00493900059,\n",
      "      0.00449980842,\n",
      "      0.00481370976,\n",
      "      0.00450351508,\n",
      "      0.00461835321,\n",
      "      0.00564624183,\n",
      "      0.00469533773,\n",
      "      0.00514745945,\n",
      "      0.0048680082,\n",
      "      0.00472367136,\n",
      "      0.00469036819,\n",
      "      0.00492150523,\n",
      "      0.00451612752,\n",
      "      0.00470758276,\n",
      "      0.00506817689,\n",
      "      0.00518524786,\n",
      "      0.00575051364,\n",
      "      0.00465349481,\n",
      "      0.00483333366,\n",
      "      0.00463376939,\n",
      "      0.00562300347,\n",
      "      0.00509682577,\n",
      "      0.00506237,\n",
      "      0.00472457195,\n",
      "      0.00516248075,\n",
      "      0.00503626699,\n",
      "      0.00532636233,\n",
      "      0.00469942112,\n",
      "      0.00493114116,\n",
      "      0.00529304659,\n",
      "      0.00447337469,\n",
      "      0.00473099621,\n",
      "      0.00524094,\n",
      "      0.00530716777,\n",
      "      0.00547546893,\n",
      "      0.00479378505,\n",
      "      0.00482422858,\n",
      "      0.00550601678,\n",
      "      0.00504867081,\n",
      "      0.00499757333,\n",
      "      0.00488257967,\n",
      "      0.00494965818,\n",
      "      0.00435725367,\n",
      "      0.00456445664,\n",
      "      0.00496963738,\n",
      "      0.00447628461,\n",
      "      0.00554004312,\n",
      "      0.00495446613,\n",
      "      0.00507690571,\n",
      "      0.00476381322,\n",
      "      0.00547264144,\n",
      "      0.00521546416,\n",
      "      0.00522053288,\n",
      "      0.00460377242,\n",
      "      0.00477561913,\n",
      "      0.00505841617,\n",
      "      0.00499517703,\n",
      "      0.00469029415,\n",
      "      0.00524290418,\n",
      "      0.00513269473,\n",
      "      0.0048468993,\n",
      "      0.0049475194,\n",
      "      0.00516723702,\n",
      "      0.00567601109,\n",
      "      0.00561219407,\n",
      "      0.0046828636,\n",
      "      0.00547416322,\n",
      "      0.00463817921,\n",
      "      0.00489062,\n",
      "      0.00545984367,\n",
      "      0.00528657297,\n",
      "      0.00469511608,\n",
      "      0.00494088605,\n",
      "      0.00489896955,\n",
      "      0.00551882107,\n",
      "      0.00444117934,\n",
      "      0.00489478791,\n",
      "      0.00482434733,\n",
      "      0.00563170668,\n",
      "      0.00570927886,\n",
      "      0.00538367871,\n",
      "      0.00527776266,\n",
      "      0.00510107167,\n",
      "      0.00481936196,\n",
      "      0.00499855075,\n",
      "      0.00482696062,\n",
      "      0.00488473754,\n",
      "      0.00461141858,\n",
      "      0.00512667047,\n",
      "      0.00468345452,\n",
      "      0.00534345116,\n",
      "      0.0052007,\n",
      "      0.00489462679,\n",
      "      0.00478243502,\n",
      "      0.00474421494,\n",
      "      0.00480725383,\n",
      "      0.00505832,\n",
      "      0.0045333188,\n",
      "      0.0056777033,\n",
      "      0.00497471914,\n",
      "      0.00505650137,\n",
      "      0.0049543269,\n",
      "      0.0047802995,\n",
      "      0.00445778575,\n",
      "      0.00470163254,\n",
      "      0.00509943208,\n",
      "      0.00550068682,\n",
      "      0.00537648611,\n",
      "      0.00507271802,\n",
      "      0.00515021197,\n",
      "      0.004919942,\n",
      "      0.00521537848\n",
      "    ]\n",
      "  ],\n",
      "  \"deployedModelId\": \"149102572819447808\",\n",
      "  \"model\": \"projects/969346734638/locations/us-central1/models/2255973559824285696\",\n",
      "  \"modelDisplayName\": \"7_leaktest_20220426113339\"\n",
      "}\n"
     ]
    }
   ],
   "source": [
    "!curl -X POST \\\n",
    "-H \"Authorization: Bearer \"$(gcloud auth application-default print-access-token) \\\n",
    "-H \"Content-Type: application/json; charset=utf-8\" \\\n",
    "-d @{DIR}/request.json \\\n",
    "https://{REGION}-aiplatform.googleapis.com/v1/{endpoint.resource_name}:predict"
   ]
  },
  {
   "cell_type": "code",
   "execution_count": 40,
   "id": "c1af5988-96f5-4742-90c8-6364272832f8",
   "metadata": {},
   "outputs": [
    {
     "name": "stderr",
     "output_type": "stream",
     "text": [
      "E0426 13:09:18.559084816   23460 fork_posix.cc:70]           Fork support is only compatible with the epoll1 and poll polling strategies\n"
     ]
    },
    {
     "name": "stdout",
     "output_type": "stream",
     "text": [
      "Using endpoint [https://us-central1-prediction-aiplatform.googleapis.com/]\n",
      "[[0.00522721186, 0.00507355947, 0.00520583754, 0.00511370599, 0.00556389289, 0.00496191252, 0.00501616718, 0.00540099479, 0.00547495717, 0.00485341297, 0.00433204928, 0.00485550892, 0.00462133903, 0.00433915, 0.00487604085, 0.0050134859, 0.00474360166, 0.00471795, 0.00514931185, 0.00448117033, 0.0049648853, 0.00432876218, 0.0045259851, 0.00526601402, 0.00476536108, 0.00464340113, 0.00455644261, 0.00553679559, 0.00519737415, 0.0056302133, 0.00514557539, 0.00525650335, 0.0045490656, 0.00517820101, 0.00485389121, 0.00526117114, 0.00494097825, 0.00464853877, 0.00476547517, 0.00549747748, 0.00506927306, 0.00456959475, 0.00483761495, 0.0048528742, 0.00493436167, 0.00510068471, 0.00555723766, 0.00480718771, 0.00494429516, 0.00474229874, 0.00491434569, 0.00526097137, 0.00517785782, 0.00456670485, 0.00504001, 0.00517804315, 0.00523951603, 0.00509553822, 0.00568575738, 0.00486719236, 0.0048664324, 0.00546042621, 0.00520131411, 0.00476808427, 0.00509487186, 0.00518969353, 0.00488877, 0.00538764754, 0.00443289522, 0.00466102781, 0.00527065899, 0.00446925545, 0.00442297617, 0.00463185739, 0.00479783071, 0.00466525834, 0.00461932551, 0.0045811832, 0.00466420734, 0.00461308053, 0.00493788114, 0.00464850757, 0.00460916897, 0.00465460028, 0.00525187887, 0.0056063314, 0.00460732263, 0.00491656223, 0.00514165172, 0.00493900059, 0.00449980842, 0.00481370976, 0.00450351508, 0.00461835321, 0.00564624183, 0.00469533773, 0.00514745945, 0.0048680082, 0.00472367136, 0.00469036819, 0.00492150523, 0.00451612752, 0.00470758276, 0.00506817689, 0.00518524786, 0.00575051364, 0.00465349481, 0.00483333366, 0.00463376939, 0.00562300347, 0.00509682577, 0.00506237, 0.00472457195, 0.00516248075, 0.00503626699, 0.00532636233, 0.00469942112, 0.00493114116, 0.00529304659, 0.00447337469, 0.00473099621, 0.00524094, 0.00530716777, 0.00547546893, 0.00479378505, 0.00482422858, 0.00550601678, 0.00504867081, 0.00499757333, 0.00488257967, 0.00494965818, 0.00435725367, 0.00456445664, 0.00496963738, 0.00447628461, 0.00554004312, 0.00495446613, 0.00507690571, 0.00476381322, 0.00547264144, 0.00521546416, 0.00522053288, 0.00460377242, 0.00477561913, 0.00505841617, 0.00499517703, 0.00469029415, 0.00524290418, 0.00513269473, 0.0048468993, 0.0049475194, 0.00516723702, 0.00567601109, 0.00561219407, 0.0046828636, 0.00547416322, 0.00463817921, 0.00489062, 0.00545984367, 0.00528657297, 0.00469511608, 0.00494088605, 0.00489896955, 0.00551882107, 0.00444117934, 0.00489478791, 0.00482434733, 0.00563170668, 0.00570927886, 0.00538367871, 0.00527776266, 0.00510107167, 0.00481936196, 0.00499855075, 0.00482696062, 0.00488473754, 0.00461141858, 0.00512667047, 0.00468345452, 0.00534345116, 0.0052007, 0.00489462679, 0.00478243502, 0.00474421494, 0.00480725383, 0.00505832, 0.0045333188, 0.0056777033, 0.00497471914, 0.00505650137, 0.0049543269, 0.0047802995, 0.00445778575, 0.00470163254, 0.00509943208, 0.00550068682, 0.00537648611, 0.00507271802, 0.00515021197, 0.004919942, 0.00521537848]]\n"
     ]
    }
   ],
   "source": [
    "!gcloud beta ai endpoints predict {endpoint.name.rsplit('/',1)[-1]} --region={REGION} --json-request={DIR}/request.json\n"
   ]
  },
  {
   "cell_type": "code",
   "execution_count": null,
   "id": "589bf311-8741-4f25-b8be-3e114eee009b",
   "metadata": {},
   "outputs": [],
   "source": []
  }
 ],
 "metadata": {
  "environment": {
   "kernel": "conda-root-py",
   "name": "tf2-gpu.2-3.m91",
   "type": "gcloud",
   "uri": "gcr.io/deeplearning-platform-release/tf2-gpu.2-3:m91"
  },
  "kernelspec": {
   "display_name": "Python [conda env:root] *",
   "language": "python",
   "name": "conda-root-py"
  },
  "language_info": {
   "codemirror_mode": {
    "name": "ipython",
    "version": 3
   },
   "file_extension": ".py",
   "mimetype": "text/x-python",
   "name": "python",
   "nbconvert_exporter": "python",
   "pygments_lexer": "ipython3",
   "version": "3.7.12"
  }
 },
 "nbformat": 4,
 "nbformat_minor": 5
}
